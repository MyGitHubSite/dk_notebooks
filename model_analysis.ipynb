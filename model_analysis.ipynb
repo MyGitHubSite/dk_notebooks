{
 "cells": [
  {
   "cell_type": "code",
   "execution_count": null,
   "metadata": {
    "collapsed": true
   },
   "outputs": [],
   "source": [
    "#analize models. "
   ]
  },
  {
   "cell_type": "code",
   "execution_count": 104,
   "metadata": {},
   "outputs": [],
   "source": [
    "%matplotlib inline\n",
    "import matplotlib.pyplot as plt\n",
    "import donkeycar as dk\n",
    "import requests\n",
    "import pandas as pd\n",
    "import tarfile\n",
    "import numpy as np\n",
    "\n",
    "import os\n",
    "\n",
    "from PIL import Image\n",
    "\n",
    "import keras"
   ]
  },
  {
   "cell_type": "code",
   "execution_count": 42,
   "metadata": {
    "collapsed": true
   },
   "outputs": [],
   "source": [
    "def get_record_from_df(df, data_path, record_transform=None, shuffle=False):\n",
    "    \n",
    "    index = list(df.index)\n",
    "    if shuffle:\n",
    "        random.shuffle(index)\n",
    "    while True:\n",
    "        for i in index:\n",
    "            row = dict(df.iloc[i])\n",
    "            img = Image.open(os.path.join(data_path, row['cam/image_array']))\n",
    "            row['cam/image_array'] = np.array(img)\n",
    "            if record_transform:\n",
    "                row = record_transform(row)\n",
    "            yield row\n",
    "\n",
    "    \n",
    "def get_batch_from_df(keys, df, record_transform=None, batch_size=128,\n",
    "                      record_tranform=None, data_path=None, shuffle=False):\n",
    "    \n",
    "    record_gen = get_record_from_df(df, data_path, record_transform, shuffle=shuffle)\n",
    "    \n",
    "    if keys==None:\n",
    "        keys = list(df.columns)\n",
    "    while True:\n",
    "        record_list = []\n",
    "        for _ in range(batch_size):\n",
    "            record_list.append(next(record_gen))\n",
    "\n",
    "        batch_arrays = {}\n",
    "        for i, k in enumerate(keys):\n",
    "            arr = np.array([r[k] for r in record_list])\n",
    "            #if len(arr.shape) == 1:\n",
    "            #    arr = arr.reshape(arr.shape + (1,))\n",
    "            batch_arrays[k] = arr\n",
    "\n",
    "        yield batch_arrays\n",
    "        \n",
    "def train_gen(X_keys, Y_keys, df, batch_size=128, data_path=None, \n",
    "              record_transform=None):\n",
    "    \n",
    "    batch_gen = get_batch_from_df(X_keys+Y_keys, df, batch_size=128, record_transform=None, \n",
    "                                  data_path=data_path)\n",
    "    while True:\n",
    "        batch = next(batch_gen)\n",
    "        X = [batch[k] for k in X_keys]\n",
    "        Y = [batch[k] for k in Y_keys]\n",
    "        yield X,Y"
   ]
  },
  {
   "cell_type": "code",
   "execution_count": 128,
   "metadata": {
    "collapsed": true
   },
   "outputs": [],
   "source": [
    "# Analyze model"
   ]
  },
  {
   "cell_type": "code",
   "execution_count": 351,
   "metadata": {},
   "outputs": [
    {
     "name": "stdout",
     "output_type": "stream",
     "text": [
      "Tub does exist\n",
      "(4078, 9)\n"
     ]
    },
    {
     "data": {
      "text/html": [
       "<div>\n",
       "<style>\n",
       "    .dataframe thead tr:only-child th {\n",
       "        text-align: right;\n",
       "    }\n",
       "\n",
       "    .dataframe thead th {\n",
       "        text-align: left;\n",
       "    }\n",
       "\n",
       "    .dataframe tbody tr th {\n",
       "        vertical-align: top;\n",
       "    }\n",
       "</style>\n",
       "<table border=\"1\" class=\"dataframe\">\n",
       "  <thead>\n",
       "    <tr style=\"text-align: right;\">\n",
       "      <th></th>\n",
       "      <th>cam/image_array</th>\n",
       "      <th>measured_throttle</th>\n",
       "      <th>odometer/meters</th>\n",
       "      <th>odometer/meters_per_second</th>\n",
       "      <th>pid_throttle</th>\n",
       "      <th>target_throttle</th>\n",
       "      <th>user/angle</th>\n",
       "      <th>user/mode</th>\n",
       "      <th>user/throttle</th>\n",
       "    </tr>\n",
       "  </thead>\n",
       "  <tbody>\n",
       "    <tr>\n",
       "      <th>0</th>\n",
       "      <td>0_cam-image_array_.jpg</td>\n",
       "      <td>0.169978</td>\n",
       "      <td>75.954661</td>\n",
       "      <td>1.189844</td>\n",
       "      <td>0.240958</td>\n",
       "      <td>0.25</td>\n",
       "      <td>0.000000</td>\n",
       "      <td>user</td>\n",
       "      <td>0.25</td>\n",
       "    </tr>\n",
       "    <tr>\n",
       "      <th>1</th>\n",
       "      <td>1_cam-image_array_.jpg</td>\n",
       "      <td>0.180791</td>\n",
       "      <td>76.067917</td>\n",
       "      <td>1.265537</td>\n",
       "      <td>0.347517</td>\n",
       "      <td>0.25</td>\n",
       "      <td>0.000000</td>\n",
       "      <td>user</td>\n",
       "      <td>0.25</td>\n",
       "    </tr>\n",
       "    <tr>\n",
       "      <th>2</th>\n",
       "      <td>2_cam-image_array_.jpg</td>\n",
       "      <td>0.204326</td>\n",
       "      <td>76.157297</td>\n",
       "      <td>1.430280</td>\n",
       "      <td>0.410079</td>\n",
       "      <td>0.25</td>\n",
       "      <td>-0.197955</td>\n",
       "      <td>user</td>\n",
       "      <td>0.25</td>\n",
       "    </tr>\n",
       "    <tr>\n",
       "      <th>3</th>\n",
       "      <td>3_cam-image_array_.jpg</td>\n",
       "      <td>0.193776</td>\n",
       "      <td>76.222802</td>\n",
       "      <td>1.356429</td>\n",
       "      <td>0.254457</td>\n",
       "      <td>0.25</td>\n",
       "      <td>-0.206207</td>\n",
       "      <td>user</td>\n",
       "      <td>0.25</td>\n",
       "    </tr>\n",
       "    <tr>\n",
       "      <th>4</th>\n",
       "      <td>4_cam-image_array_.jpg</td>\n",
       "      <td>0.185968</td>\n",
       "      <td>76.311569</td>\n",
       "      <td>1.301773</td>\n",
       "      <td>0.275952</td>\n",
       "      <td>0.25</td>\n",
       "      <td>0.000000</td>\n",
       "      <td>user</td>\n",
       "      <td>0.25</td>\n",
       "    </tr>\n",
       "  </tbody>\n",
       "</table>\n",
       "</div>"
      ],
      "text/plain": [
       "          cam/image_array  measured_throttle  odometer/meters  \\\n",
       "0  0_cam-image_array_.jpg           0.169978        75.954661   \n",
       "1  1_cam-image_array_.jpg           0.180791        76.067917   \n",
       "2  2_cam-image_array_.jpg           0.204326        76.157297   \n",
       "3  3_cam-image_array_.jpg           0.193776        76.222802   \n",
       "4  4_cam-image_array_.jpg           0.185968        76.311569   \n",
       "\n",
       "   odometer/meters_per_second  pid_throttle  target_throttle  user/angle  \\\n",
       "0                    1.189844      0.240958             0.25    0.000000   \n",
       "1                    1.265537      0.347517             0.25    0.000000   \n",
       "2                    1.430280      0.410079             0.25   -0.197955   \n",
       "3                    1.356429      0.254457             0.25   -0.206207   \n",
       "4                    1.301773      0.275952             0.25    0.000000   \n",
       "\n",
       "  user/mode  user/throttle  \n",
       "0      user           0.25  \n",
       "1      user           0.25  \n",
       "2      user           0.25  \n",
       "3      user           0.25  \n",
       "4      user           0.25  "
      ]
     },
     "execution_count": 351,
     "metadata": {},
     "output_type": "execute_result"
    }
   ],
   "source": [
    "tub_path = '/home/wroscoe/d2/data/alan/aw_medium/'\n",
    "T = dk.parts.Tub(path=tub_path)\n",
    "\n",
    "df = pd.DataFrame([T.get_json_record(i) for i in T.get_index(shuffled=False)])\n",
    "print(df.shape)\n",
    "df = df.dropna()\n",
    "df.head()"
   ]
  },
  {
   "cell_type": "code",
   "execution_count": 293,
   "metadata": {},
   "outputs": [],
   "source": [
    "img_gen = get_batch_from_df(['cam/image_array'], \n",
    "                            df, \n",
    "                            batch_size=len(df), \n",
    "                            data_path=tub_path)\n",
    "data = next(img_gen)"
   ]
  },
  {
   "cell_type": "code",
   "execution_count": 320,
   "metadata": {},
   "outputs": [],
   "source": [
    "m = keras.models.load_model('/home/wroscoe/d2/models/aw_ac_1')"
   ]
  },
  {
   "cell_type": "code",
   "execution_count": 321,
   "metadata": {},
   "outputs": [],
   "source": [
    "predictions = m.predict(data['cam/image_array'])"
   ]
  },
  {
   "cell_type": "code",
   "execution_count": 322,
   "metadata": {},
   "outputs": [
    {
     "name": "stdout",
     "output_type": "stream",
     "text": [
      "converting to linear output\n"
     ]
    }
   ],
   "source": [
    "psteering = predictions[0]\n",
    "if len(psteering.shape) > 1:\n",
    "    print('converting to linear output')\n",
    "    psteering = dk.utils.unbin_Y(psteering)"
   ]
  },
  {
   "cell_type": "code",
   "execution_count": 323,
   "metadata": {},
   "outputs": [
    {
     "data": {
      "text/html": [
       "<div>\n",
       "<style>\n",
       "    .dataframe thead tr:only-child th {\n",
       "        text-align: right;\n",
       "    }\n",
       "\n",
       "    .dataframe thead th {\n",
       "        text-align: left;\n",
       "    }\n",
       "\n",
       "    .dataframe tbody tr th {\n",
       "        vertical-align: top;\n",
       "    }\n",
       "</style>\n",
       "<table border=\"1\" class=\"dataframe\">\n",
       "  <thead>\n",
       "    <tr style=\"text-align: right;\">\n",
       "      <th></th>\n",
       "      <th>cam/image_array</th>\n",
       "      <th>measured_throttle</th>\n",
       "      <th>odometer/meters</th>\n",
       "      <th>odometer/meters_per_second</th>\n",
       "      <th>pid_throttle</th>\n",
       "      <th>target_throttle</th>\n",
       "      <th>user/angle</th>\n",
       "      <th>user/mode</th>\n",
       "      <th>user/throttle</th>\n",
       "      <th>pilot/angle</th>\n",
       "    </tr>\n",
       "  </thead>\n",
       "  <tbody>\n",
       "    <tr>\n",
       "      <th>0</th>\n",
       "      <td>0_cam-image_array_.jpg</td>\n",
       "      <td>0.169978</td>\n",
       "      <td>75.954661</td>\n",
       "      <td>1.189844</td>\n",
       "      <td>0.240958</td>\n",
       "      <td>0.25</td>\n",
       "      <td>0.000000</td>\n",
       "      <td>user</td>\n",
       "      <td>0.25</td>\n",
       "      <td>0.000000</td>\n",
       "    </tr>\n",
       "    <tr>\n",
       "      <th>1</th>\n",
       "      <td>1_cam-image_array_.jpg</td>\n",
       "      <td>0.180791</td>\n",
       "      <td>76.067917</td>\n",
       "      <td>1.265537</td>\n",
       "      <td>0.347517</td>\n",
       "      <td>0.25</td>\n",
       "      <td>0.000000</td>\n",
       "      <td>user</td>\n",
       "      <td>0.25</td>\n",
       "      <td>0.000000</td>\n",
       "    </tr>\n",
       "    <tr>\n",
       "      <th>2</th>\n",
       "      <td>2_cam-image_array_.jpg</td>\n",
       "      <td>0.204326</td>\n",
       "      <td>76.157297</td>\n",
       "      <td>1.430280</td>\n",
       "      <td>0.410079</td>\n",
       "      <td>0.25</td>\n",
       "      <td>-0.197955</td>\n",
       "      <td>user</td>\n",
       "      <td>0.25</td>\n",
       "      <td>0.000000</td>\n",
       "    </tr>\n",
       "    <tr>\n",
       "      <th>3</th>\n",
       "      <td>3_cam-image_array_.jpg</td>\n",
       "      <td>0.193776</td>\n",
       "      <td>76.222802</td>\n",
       "      <td>1.356429</td>\n",
       "      <td>0.254457</td>\n",
       "      <td>0.25</td>\n",
       "      <td>-0.206207</td>\n",
       "      <td>user</td>\n",
       "      <td>0.25</td>\n",
       "      <td>-0.142857</td>\n",
       "    </tr>\n",
       "    <tr>\n",
       "      <th>4</th>\n",
       "      <td>4_cam-image_array_.jpg</td>\n",
       "      <td>0.185968</td>\n",
       "      <td>76.311569</td>\n",
       "      <td>1.301773</td>\n",
       "      <td>0.275952</td>\n",
       "      <td>0.25</td>\n",
       "      <td>0.000000</td>\n",
       "      <td>user</td>\n",
       "      <td>0.25</td>\n",
       "      <td>-0.142857</td>\n",
       "    </tr>\n",
       "  </tbody>\n",
       "</table>\n",
       "</div>"
      ],
      "text/plain": [
       "          cam/image_array  measured_throttle  odometer/meters  \\\n",
       "0  0_cam-image_array_.jpg           0.169978        75.954661   \n",
       "1  1_cam-image_array_.jpg           0.180791        76.067917   \n",
       "2  2_cam-image_array_.jpg           0.204326        76.157297   \n",
       "3  3_cam-image_array_.jpg           0.193776        76.222802   \n",
       "4  4_cam-image_array_.jpg           0.185968        76.311569   \n",
       "\n",
       "   odometer/meters_per_second  pid_throttle  target_throttle  user/angle  \\\n",
       "0                    1.189844      0.240958             0.25    0.000000   \n",
       "1                    1.265537      0.347517             0.25    0.000000   \n",
       "2                    1.430280      0.410079             0.25   -0.197955   \n",
       "3                    1.356429      0.254457             0.25   -0.206207   \n",
       "4                    1.301773      0.275952             0.25    0.000000   \n",
       "\n",
       "  user/mode  user/throttle  pilot/angle  \n",
       "0      user           0.25     0.000000  \n",
       "1      user           0.25     0.000000  \n",
       "2      user           0.25     0.000000  \n",
       "3      user           0.25    -0.142857  \n",
       "4      user           0.25    -0.142857  "
      ]
     },
     "execution_count": 323,
     "metadata": {},
     "output_type": "execute_result"
    }
   ],
   "source": [
    "df.head()"
   ]
  },
  {
   "cell_type": "code",
   "execution_count": 324,
   "metadata": {},
   "outputs": [],
   "source": [
    "df['pilot/angle'] = psteering"
   ]
  },
  {
   "cell_type": "code",
   "execution_count": 325,
   "metadata": {},
   "outputs": [
    {
     "data": {
      "text/plain": [
       "array([[<matplotlib.axes._subplots.AxesSubplot object at 0x7f3ef0abf7b8>,\n",
       "        <matplotlib.axes._subplots.AxesSubplot object at 0x7f3ef02dada0>]], dtype=object)"
      ]
     },
     "execution_count": 325,
     "metadata": {},
     "output_type": "execute_result"
    },
    {
     "data": {
      "image/png": "[encoded data removed]",
      "text/plain": [
       "<matplotlib.figure.Figure at 0x7f3ef0333a20>"
      ]
     },
     "metadata": {},
     "output_type": "display_data"
    }
   ],
   "source": [
    "df[['user/angle', 'pilot/angle']].hist()"
   ]
  },
  {
   "cell_type": "code",
   "execution_count": 326,
   "metadata": {},
   "outputs": [
    {
     "name": "stdout",
     "output_type": "stream",
     "text": [
      "user/angle     0.279672\n",
      "pilot/angle    0.293042\n",
      "dtype: float64\n"
     ]
    }
   ],
   "source": [
    "print(df[['user/angle', 'pilot/angle']].std())"
   ]
  },
  {
   "cell_type": "code",
   "execution_count": 327,
   "metadata": {},
   "outputs": [
    {
     "name": "stdout",
     "output_type": "stream",
     "text": [
      "user/angle     0.017392\n",
      "pilot/angle    0.027464\n",
      "dtype: float64\n"
     ]
    }
   ],
   "source": [
    "print(df[['user/angle', 'pilot/angle']].mean())"
   ]
  },
  {
   "cell_type": "code",
   "execution_count": 333,
   "metadata": {},
   "outputs": [
    {
     "data": {
      "text/plain": [
       "<matplotlib.axes._subplots.AxesSubplot at 0x7f3eeff71c50>"
      ]
     },
     "execution_count": 333,
     "metadata": {},
     "output_type": "execute_result"
    },
    {
     "data": {
      "image/png": "[encoded data removed]",
      "text/plain": [
       "<matplotlib.figure.Figure at 0x7f3eeff1e160>"
      ]
     },
     "metadata": {},
     "output_type": "display_data"
    }
   ],
   "source": [
    "df[['user/angle', 'pilot/angle']][2180:2190].plot()"
   ]
  },
  {
   "cell_type": "code",
   "execution_count": 319,
   "metadata": {},
   "outputs": [
    {
     "data": {
      "text/plain": [
       "<matplotlib.axes._subplots.AxesSubplot at 0x7f3ef0af22b0>"
      ]
     },
     "execution_count": 319,
     "metadata": {},
     "output_type": "execute_result"
    },
    {
     "data": {
      "image/png": "[encoded data removed]",
      "text/plain": [
       "<matplotlib.figure.Figure at 0x7f3ef0af5198>"
      ]
     },
     "metadata": {},
     "output_type": "display_data"
    }
   ],
   "source": [
    "df[['user/angle', 'pilot/angle']][1100:1500].plot()"
   ]
  },
  {
   "cell_type": "markdown",
   "metadata": {},
   "source": [
    "### Find where model is worst "
   ]
  },
  {
   "cell_type": "code",
   "execution_count": 334,
   "metadata": {},
   "outputs": [],
   "source": [
    "df['diff'] = df['user/angle'] - df['pilot/angle']"
   ]
  },
  {
   "cell_type": "code",
   "execution_count": 335,
   "metadata": {},
   "outputs": [
    {
     "data": {
      "text/html": [
       "<div>\n",
       "<style>\n",
       "    .dataframe thead tr:only-child th {\n",
       "        text-align: right;\n",
       "    }\n",
       "\n",
       "    .dataframe thead th {\n",
       "        text-align: left;\n",
       "    }\n",
       "\n",
       "    .dataframe tbody tr th {\n",
       "        vertical-align: top;\n",
       "    }\n",
       "</style>\n",
       "<table border=\"1\" class=\"dataframe\">\n",
       "  <thead>\n",
       "    <tr style=\"text-align: right;\">\n",
       "      <th></th>\n",
       "      <th>cam/image_array</th>\n",
       "      <th>measured_throttle</th>\n",
       "      <th>odometer/meters</th>\n",
       "      <th>odometer/meters_per_second</th>\n",
       "      <th>pid_throttle</th>\n",
       "      <th>target_throttle</th>\n",
       "      <th>user/angle</th>\n",
       "      <th>user/mode</th>\n",
       "      <th>user/throttle</th>\n",
       "      <th>pilot/angle</th>\n",
       "      <th>diff</th>\n",
       "    </tr>\n",
       "  </thead>\n",
       "  <tbody>\n",
       "    <tr>\n",
       "      <th>296</th>\n",
       "      <td>296_cam-image_array_.jpg</td>\n",
       "      <td>0.164750</td>\n",
       "      <td>101.117283</td>\n",
       "      <td>1.153250</td>\n",
       "      <td>0.350153</td>\n",
       "      <td>0.25</td>\n",
       "      <td>0.000000</td>\n",
       "      <td>user</td>\n",
       "      <td>0.25</td>\n",
       "      <td>1.000000</td>\n",
       "      <td>-1.000000</td>\n",
       "    </tr>\n",
       "    <tr>\n",
       "      <th>2572</th>\n",
       "      <td>2572_cam-image_array_.jpg</td>\n",
       "      <td>0.180253</td>\n",
       "      <td>292.359636</td>\n",
       "      <td>1.261770</td>\n",
       "      <td>0.319548</td>\n",
       "      <td>0.25</td>\n",
       "      <td>0.049464</td>\n",
       "      <td>user</td>\n",
       "      <td>0.25</td>\n",
       "      <td>1.000000</td>\n",
       "      <td>-0.950536</td>\n",
       "    </tr>\n",
       "    <tr>\n",
       "      <th>1231</th>\n",
       "      <td>1231_cam-image_array_.jpg</td>\n",
       "      <td>0.169888</td>\n",
       "      <td>179.903333</td>\n",
       "      <td>1.189216</td>\n",
       "      <td>0.342994</td>\n",
       "      <td>0.25</td>\n",
       "      <td>0.131962</td>\n",
       "      <td>user</td>\n",
       "      <td>0.25</td>\n",
       "      <td>1.000000</td>\n",
       "      <td>-0.868038</td>\n",
       "    </tr>\n",
       "    <tr>\n",
       "      <th>375</th>\n",
       "      <td>375_cam-image_array_.jpg</td>\n",
       "      <td>0.195972</td>\n",
       "      <td>107.825071</td>\n",
       "      <td>1.371801</td>\n",
       "      <td>0.325440</td>\n",
       "      <td>0.25</td>\n",
       "      <td>0.189679</td>\n",
       "      <td>user</td>\n",
       "      <td>0.25</td>\n",
       "      <td>1.000000</td>\n",
       "      <td>-0.810321</td>\n",
       "    </tr>\n",
       "    <tr>\n",
       "      <th>1511</th>\n",
       "      <td>1511_cam-image_array_.jpg</td>\n",
       "      <td>0.167415</td>\n",
       "      <td>203.319677</td>\n",
       "      <td>1.171906</td>\n",
       "      <td>0.279097</td>\n",
       "      <td>0.25</td>\n",
       "      <td>0.000000</td>\n",
       "      <td>user</td>\n",
       "      <td>0.25</td>\n",
       "      <td>0.714286</td>\n",
       "      <td>-0.714286</td>\n",
       "    </tr>\n",
       "    <tr>\n",
       "      <th>1032</th>\n",
       "      <td>1032_cam-image_array_.jpg</td>\n",
       "      <td>0.178181</td>\n",
       "      <td>163.641676</td>\n",
       "      <td>1.247267</td>\n",
       "      <td>0.335031</td>\n",
       "      <td>0.25</td>\n",
       "      <td>0.000000</td>\n",
       "      <td>user</td>\n",
       "      <td>0.25</td>\n",
       "      <td>0.714286</td>\n",
       "      <td>-0.714286</td>\n",
       "    </tr>\n",
       "    <tr>\n",
       "      <th>1510</th>\n",
       "      <td>1510_cam-image_array_.jpg</td>\n",
       "      <td>0.180345</td>\n",
       "      <td>203.221726</td>\n",
       "      <td>1.262417</td>\n",
       "      <td>0.320457</td>\n",
       "      <td>0.25</td>\n",
       "      <td>0.000000</td>\n",
       "      <td>user</td>\n",
       "      <td>0.25</td>\n",
       "      <td>0.714286</td>\n",
       "      <td>-0.714286</td>\n",
       "    </tr>\n",
       "    <tr>\n",
       "      <th>297</th>\n",
       "      <td>297_cam-image_array_.jpg</td>\n",
       "      <td>0.178033</td>\n",
       "      <td>101.193807</td>\n",
       "      <td>1.246234</td>\n",
       "      <td>0.379055</td>\n",
       "      <td>0.25</td>\n",
       "      <td>0.000000</td>\n",
       "      <td>user</td>\n",
       "      <td>0.25</td>\n",
       "      <td>0.714286</td>\n",
       "      <td>-0.714286</td>\n",
       "    </tr>\n",
       "    <tr>\n",
       "      <th>1208</th>\n",
       "      <td>1208_cam-image_array_.jpg</td>\n",
       "      <td>0.170199</td>\n",
       "      <td>178.060329</td>\n",
       "      <td>1.191390</td>\n",
       "      <td>0.309203</td>\n",
       "      <td>0.25</td>\n",
       "      <td>0.206183</td>\n",
       "      <td>user</td>\n",
       "      <td>0.25</td>\n",
       "      <td>0.857143</td>\n",
       "      <td>-0.650960</td>\n",
       "    </tr>\n",
       "    <tr>\n",
       "      <th>1924</th>\n",
       "      <td>1924_cam-image_array_.jpg</td>\n",
       "      <td>0.185285</td>\n",
       "      <td>237.873630</td>\n",
       "      <td>1.296994</td>\n",
       "      <td>0.378581</td>\n",
       "      <td>0.25</td>\n",
       "      <td>0.354649</td>\n",
       "      <td>user</td>\n",
       "      <td>0.25</td>\n",
       "      <td>1.000000</td>\n",
       "      <td>-0.645351</td>\n",
       "    </tr>\n",
       "  </tbody>\n",
       "</table>\n",
       "</div>"
      ],
      "text/plain": [
       "                cam/image_array  measured_throttle  odometer/meters  \\\n",
       "296    296_cam-image_array_.jpg           0.164750       101.117283   \n",
       "2572  2572_cam-image_array_.jpg           0.180253       292.359636   \n",
       "1231  1231_cam-image_array_.jpg           0.169888       179.903333   \n",
       "375    375_cam-image_array_.jpg           0.195972       107.825071   \n",
       "1511  1511_cam-image_array_.jpg           0.167415       203.319677   \n",
       "1032  1032_cam-image_array_.jpg           0.178181       163.641676   \n",
       "1510  1510_cam-image_array_.jpg           0.180345       203.221726   \n",
       "297    297_cam-image_array_.jpg           0.178033       101.193807   \n",
       "1208  1208_cam-image_array_.jpg           0.170199       178.060329   \n",
       "1924  1924_cam-image_array_.jpg           0.185285       237.873630   \n",
       "\n",
       "      odometer/meters_per_second  pid_throttle  target_throttle  user/angle  \\\n",
       "296                     1.153250      0.350153             0.25    0.000000   \n",
       "2572                    1.261770      0.319548             0.25    0.049464   \n",
       "1231                    1.189216      0.342994             0.25    0.131962   \n",
       "375                     1.371801      0.325440             0.25    0.189679   \n",
       "1511                    1.171906      0.279097             0.25    0.000000   \n",
       "1032                    1.247267      0.335031             0.25    0.000000   \n",
       "1510                    1.262417      0.320457             0.25    0.000000   \n",
       "297                     1.246234      0.379055             0.25    0.000000   \n",
       "1208                    1.191390      0.309203             0.25    0.206183   \n",
       "1924                    1.296994      0.378581             0.25    0.354649   \n",
       "\n",
       "     user/mode  user/throttle  pilot/angle      diff  \n",
       "296       user           0.25     1.000000 -1.000000  \n",
       "2572      user           0.25     1.000000 -0.950536  \n",
       "1231      user           0.25     1.000000 -0.868038  \n",
       "375       user           0.25     1.000000 -0.810321  \n",
       "1511      user           0.25     0.714286 -0.714286  \n",
       "1032      user           0.25     0.714286 -0.714286  \n",
       "1510      user           0.25     0.714286 -0.714286  \n",
       "297       user           0.25     0.714286 -0.714286  \n",
       "1208      user           0.25     0.857143 -0.650960  \n",
       "1924      user           0.25     1.000000 -0.645351  "
      ]
     },
     "execution_count": 335,
     "metadata": {},
     "output_type": "execute_result"
    }
   ],
   "source": [
    "sdf = df.sort_values('diff', ascending=True)\n",
    "sdf[:10]"
   ]
  },
  {
   "cell_type": "code",
   "execution_count": 349,
   "metadata": {},
   "outputs": [
    {
     "name": "stdout",
     "output_type": "stream",
     "text": [
      "cam/image_array               1510_cam-image_array_.jpg\n",
      "measured_throttle                              0.180345\n",
      "odometer/meters                                 203.222\n",
      "odometer/meters_per_second                      1.26242\n",
      "pid_throttle                                   0.320457\n",
      "target_throttle                                    0.25\n",
      "user/angle                                            0\n",
      "user/mode                                          user\n",
      "user/throttle                                      0.25\n",
      "pilot/angle                                    0.714286\n",
      "diff                                          -0.714286\n",
      "Name: 6, dtype: object\n"
     ]
    }
   ],
   "source": [
    "sdf = sdf.reset_index(drop=True)\n",
    "row = sdf.iloc[6]\n",
    "print(row)\n",
    "data_path = T.path\n",
    "img = Image.open(os.path.join(data_path, row['cam/image_array']))\n",
    "arr = np.array(img)"
   ]
  },
  {
   "cell_type": "code",
   "execution_count": 350,
   "metadata": {},
   "outputs": [
    {
     "data": {
      "text/plain": [
       "<matplotlib.image.AxesImage at 0x7f3eefe3c2b0>"
      ]
     },
     "execution_count": 350,
     "metadata": {},
     "output_type": "execute_result"
    },
    {
     "data": {
      "image/png": "[encoded data removed]",
      "text/plain": [
       "<matplotlib.figure.Figure at 0x7f3eefea8668>"
      ]
     },
     "metadata": {},
     "output_type": "display_data"
    }
   ],
   "source": [
    "plt.imshow(arr)"
   ]
  },
  {
   "cell_type": "code",
   "execution_count": null,
   "metadata": {
    "collapsed": true
   },
   "outputs": [],
   "source": []
  }
 ],
 "metadata": {
  "kernelspec": {
   "display_name": "Python 3",
   "language": "python",
   "name": "python3"
  },
  "language_info": {
   "codemirror_mode": {
    "name": "ipython",
    "version": 3
   },
   "file_extension": ".py",
   "mimetype": "text/x-python",
   "name": "python",
   "nbconvert_exporter": "python",
   "pygments_lexer": "ipython3",
   "version": "3.5.4"
  }
 },
 "nbformat": 4,
 "nbformat_minor": 2
}
