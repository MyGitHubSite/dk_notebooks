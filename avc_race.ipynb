{
 "cells": [
  {
   "cell_type": "markdown",
   "metadata": {},
   "source": [
    "# Lessons learned from racing a Donkey in AVC 2017\n",
    "\n",
    "All the information I have on the race will be in this notebook including.\n",
    "* [AVC Race rules](https://avc.sparkfun.com/2016/rules#AVC)\n",
    "* Schedule: Friday (training & post data), Saturday (test and race?), Sunday (maybe race?)\n",
    "* Map\n",
    "* Datasets (see below)\n",
    " "
   ]
  },
  {
   "cell_type": "code",
   "execution_count": 29,
   "metadata": {},
   "outputs": [],
   "source": [
    "%matplotlib inline\n",
    "import donkeycar as dk\n",
    "import requests\n",
    "import pandas as pd\n",
    "import tarfile\n",
    "import numpy as np\n",
    "\n",
    "import os\n",
    "\n",
    "from PIL import Image\n",
    "\n",
    "import keras"
   ]
  },
  {
   "cell_type": "markdown",
   "metadata": {},
   "source": [
    "## Download data"
   ]
  },
  {
   "cell_type": "code",
   "execution_count": 2,
   "metadata": {},
   "outputs": [
    {
     "data": {
      "text/plain": [
       "'\\nreq = requests.get(\\'https://drive.google.com/uc?export=download&id=0Bw0ExbCN1VLxeWJCQUZPM1VZSlE\\')\\n\\nzip_path = \\'/home/wroscoe/data.tar.gz\\'\\nwith open(zip_path, \\'wb\\') as f:\\n    f.write(req.content)\\n    \\nif (zip_path.endswith(\"tar.gz\")):\\n    tar = tarfile.open(zip_path, \"r:gz\")\\n    tar.extractall(\\'/home/wroscoe/\\')\\n    tar.close()\\n'"
      ]
     },
     "execution_count": 2,
     "metadata": {},
     "output_type": "execute_result"
    }
   ],
   "source": [
    "\"\"\"\n",
    "req = requests.get('https://drive.google.com/uc?export=download&id=0Bw0ExbCN1VLxeWJCQUZPM1VZSlE')\n",
    "\n",
    "zip_path = '/home/wroscoe/data.tar.gz'\n",
    "with open(zip_path, 'wb') as f:\n",
    "    f.write(req.content)\n",
    "    \n",
    "if (zip_path.endswith(\"tar.gz\")):\n",
    "    tar = tarfile.open(zip_path, \"r:gz\")\n",
    "    tar.extractall('/home/wroscoe/')\n",
    "    tar.close()\n",
    "\"\"\""
   ]
  },
  {
   "cell_type": "markdown",
   "metadata": {},
   "source": [
    "### Read in data"
   ]
  },
  {
   "cell_type": "code",
   "execution_count": 35,
   "metadata": {},
   "outputs": [
    {
     "name": "stdout",
     "output_type": "stream",
     "text": [
      "Tub does exist\n"
     ]
    }
   ],
   "source": [
    "tub_path = '/home/wroscoe/d2/data/tub_30_17-10-15/'\n",
    "T = dk.parts.Tub(path=tub_path)\n",
    "\n",
    "df = pd.DataFrame([T.get_json_record(i) for i in T.get_index(shuffled=False)])\n",
    "#df['user/angle'] = df['user/angle'].shift(-10)\n",
    "df = df.dropna()"
   ]
  },
  {
   "cell_type": "markdown",
   "metadata": {},
   "source": [
    "## Build index"
   ]
  },
  {
   "cell_type": "markdown",
   "metadata": {},
   "source": [
    "1. read records into dataframe \n",
    "2. resolve path names tobe absolute\n",
    "3. order recrods by timestamp or id. "
   ]
  },
  {
   "cell_type": "code",
   "execution_count": 36,
   "metadata": {
    "collapsed": true
   },
   "outputs": [],
   "source": [
    "\n",
    "df = pd.DataFrame([T.get_json_record(i) for i in T.get_index()])"
   ]
  },
  {
   "cell_type": "code",
   "execution_count": 37,
   "metadata": {},
   "outputs": [
    {
     "data": {
      "text/html": [
       "<div>\n",
       "<style>\n",
       "    .dataframe thead tr:only-child th {\n",
       "        text-align: right;\n",
       "    }\n",
       "\n",
       "    .dataframe thead th {\n",
       "        text-align: left;\n",
       "    }\n",
       "\n",
       "    .dataframe tbody tr th {\n",
       "        vertical-align: top;\n",
       "    }\n",
       "</style>\n",
       "<table border=\"1\" class=\"dataframe\">\n",
       "  <thead>\n",
       "    <tr style=\"text-align: right;\">\n",
       "      <th></th>\n",
       "      <th>cam/image_array</th>\n",
       "      <th>user/angle</th>\n",
       "      <th>user/mode</th>\n",
       "      <th>user/throttle</th>\n",
       "    </tr>\n",
       "  </thead>\n",
       "  <tbody>\n",
       "    <tr>\n",
       "      <th>0</th>\n",
       "      <td>703_cam-image_array_.jpg</td>\n",
       "      <td>0.159127</td>\n",
       "      <td>user</td>\n",
       "      <td>0.796105</td>\n",
       "    </tr>\n",
       "    <tr>\n",
       "      <th>1</th>\n",
       "      <td>1611_cam-image_array_.jpg</td>\n",
       "      <td>0.000000</td>\n",
       "      <td>user</td>\n",
       "      <td>0.744671</td>\n",
       "    </tr>\n",
       "    <tr>\n",
       "      <th>2</th>\n",
       "      <td>689_cam-image_array_.jpg</td>\n",
       "      <td>0.002533</td>\n",
       "      <td>user</td>\n",
       "      <td>0.784940</td>\n",
       "    </tr>\n",
       "    <tr>\n",
       "      <th>3</th>\n",
       "      <td>5272_cam-image_array_.jpg</td>\n",
       "      <td>0.000000</td>\n",
       "      <td>user</td>\n",
       "      <td>0.787374</td>\n",
       "    </tr>\n",
       "    <tr>\n",
       "      <th>4</th>\n",
       "      <td>5579_cam-image_array_.jpg</td>\n",
       "      <td>-0.287095</td>\n",
       "      <td>user</td>\n",
       "      <td>0.703408</td>\n",
       "    </tr>\n",
       "  </tbody>\n",
       "</table>\n",
       "</div>"
      ],
      "text/plain": [
       "             cam/image_array  user/angle user/mode  user/throttle\n",
       "0   703_cam-image_array_.jpg    0.159127      user       0.796105\n",
       "1  1611_cam-image_array_.jpg    0.000000      user       0.744671\n",
       "2   689_cam-image_array_.jpg    0.002533      user       0.784940\n",
       "3  5272_cam-image_array_.jpg    0.000000      user       0.787374\n",
       "4  5579_cam-image_array_.jpg   -0.287095      user       0.703408"
      ]
     },
     "execution_count": 37,
     "metadata": {},
     "output_type": "execute_result"
    }
   ],
   "source": [
    "df.head()"
   ]
  },
  {
   "cell_type": "code",
   "execution_count": 38,
   "metadata": {},
   "outputs": [
    {
     "data": {
      "text/plain": [
       "['image_array', 'float', 'float', 'str']"
      ]
     },
     "execution_count": 38,
     "metadata": {},
     "output_type": "execute_result"
    }
   ],
   "source": [
    "T.types"
   ]
  },
  {
   "cell_type": "markdown",
   "metadata": {},
   "source": [
    "###  Batch Generator with dataframes"
   ]
  },
  {
   "cell_type": "markdown",
   "metadata": {},
   "source": [
    "* Load/combine index from many tubs.\n",
    "* Load record given index id of tub.\n",
    "* Get type, perform loading action based on type. \n",
    "* Apply transform of record (ie, flip, augment)\n",
    "* Build batch of loaded records. Accepts a pipeline to specify transforms for records.\n",
    "* Batch generator to return batches of loaded records.\n",
    "* Split the data into test and validate sets. "
   ]
  },
  {
   "cell_type": "markdown",
   "metadata": {},
   "source": [
    "### Record Index Operations.\n",
    "To allow for more flexibility when manipulating training data. Dataframes are availible before batch generation. \n",
    "1. Extra columns (keep percentage, flip Y/N) can be added. \n",
    "2. Sequence operations can be performed (ie smoothing. \n",
    "3. Create new columns to train on (ie 30 frame look ahead)"
   ]
  },
  {
   "cell_type": "markdown",
   "metadata": {},
   "source": [
    "#### Smoothing"
   ]
  },
  {
   "cell_type": "code",
   "execution_count": 34,
   "metadata": {},
   "outputs": [
    {
     "data": {
      "text/plain": [
       "<matplotlib.axes._subplots.AxesSubplot at 0x7f0ca270cbe0>"
      ]
     },
     "execution_count": 34,
     "metadata": {},
     "output_type": "execute_result"
    },
    {
     "data": {
      "image/png": "[encoded data removed]",
      "text/plain": [
       "<matplotlib.figure.Figure at 0x7f0ca2c5f048>"
      ]
     },
     "metadata": {},
     "output_type": "display_data"
    }
   ],
   "source": [
    "r = df['user/angle'].rolling(3, center=True)\n",
    "df['smoothed'] = r.mean()\n",
    "df[['smoothed', 'user/angle']][2200:2300].plot()"
   ]
  },
  {
   "cell_type": "markdown",
   "metadata": {},
   "source": [
    "## Training \n"
   ]
  },
  {
   "cell_type": "markdown",
   "metadata": {},
   "source": [
    "* Load model.\n",
    "* Train on batches. \n",
    "* Finishing. After training stops automatically, load saved model again and train on full dataset 1 or 2 times. (lower learning rate?) or rely on dropout to prevent overfitting.\n",
    "* Give an analysis of the trained model. "
   ]
  },
  {
   "cell_type": "markdown",
   "metadata": {},
   "source": [
    "## Analysis of model. \n",
    "\n",
    "* Output graphs comparing steering and throttle\n",
    "* Output video showing what the network is queing off of and the predicted steering and throttle values"
   ]
  },
  {
   "cell_type": "markdown",
   "metadata": {},
   "source": [
    "## Analysis of pilot\n",
    "* Evaluate a the full pilot's performance against a Tub.\n",
    "* Show comparison graphs and summary statistics. \n",
    "* Evaluate the pilot against some standard datasets. "
   ]
  },
  {
   "cell_type": "markdown",
   "metadata": {},
   "source": [
    "## Possition Tags \n",
    "\n",
    "Put tags on the back of cars so other cars can gauge the distance between them. "
   ]
  },
  {
   "cell_type": "markdown",
   "metadata": {},
   "source": [
    "## Statefull models."
   ]
  },
  {
   "cell_type": "markdown",
   "metadata": {},
   "source": [
    "* Put an LSTM below the dense layer of the network to give the network some memory. \n",
    "* Update training to train on batches of sequences. "
   ]
  },
  {
   "cell_type": "markdown",
   "metadata": {},
   "source": [
    "## Tub Cleaner\n",
    "* Make simple way to download data. (zip and download link)\n"
   ]
  },
  {
   "cell_type": "markdown",
   "metadata": {},
   "source": [
    "## Driving\n",
    "* Record time of frame. "
   ]
  },
  {
   "cell_type": "markdown",
   "metadata": {},
   "source": [
    "## Test parts\n",
    "* Easy way to test the speed of parts in terms of framerate. "
   ]
  },
  {
   "cell_type": "markdown",
   "metadata": {},
   "source": [
    "## Slackbot\n",
    "Slackbot that shows users locations to get help if they haven't posted to the community before. "
   ]
  },
  {
   "cell_type": "markdown",
   "metadata": {},
   "source": [
    "## Old method of loading batches of records"
   ]
  },
  {
   "cell_type": "code",
   "execution_count": null,
   "metadata": {
    "collapsed": true
   },
   "outputs": [],
   "source": []
  },
  {
   "cell_type": "code",
   "execution_count": 84,
   "metadata": {
    "collapsed": true
   },
   "outputs": [],
   "source": [
    "def get_record_from_df(df, data_path, record_transform=None, shuffle=False):\n",
    "    \n",
    "    index = list(df.index)\n",
    "    if shuffle:\n",
    "        random.shuffle(index)\n",
    "    while True:\n",
    "        for i in index:\n",
    "            row = dict(df.ix[i])\n",
    "            img = Image.open(os.path.join(data_path, row['cam/image_array']))\n",
    "            row['cam/image_array'] = np.array(img)\n",
    "            if record_transform:\n",
    "                row = record_transform(row)\n",
    "            yield row\n",
    "\n",
    "    \n",
    "def get_batch_from_df(keys, df, record_transform=None, batch_size=128,\n",
    "                      record_tranform=None, data_path=None, shuffle=False):\n",
    "    \n",
    "    record_gen = get_record_from_df(df, data_path, record_transform, shuffle=shuffle)\n",
    "    \n",
    "    if keys==None:\n",
    "        keys = list(df.columns)\n",
    "    while True:\n",
    "        record_list = []\n",
    "        for _ in range(batch_size):\n",
    "            record_list.append(next(record_gen))\n",
    "\n",
    "        batch_arrays = {}\n",
    "        for i, k in enumerate(keys):\n",
    "            arr = np.array([r[k] for r in record_list])\n",
    "            #if len(arr.shape) == 1:\n",
    "            #    arr = arr.reshape(arr.shape + (1,))\n",
    "            batch_arrays[k] = arr\n",
    "\n",
    "        yield batch_arrays\n",
    "        \n",
    "def train_gen(X_keys, Y_keys, df, batch_size=128, data_path=None, \n",
    "              record_transform=None):\n",
    "    \n",
    "    batch_gen = get_batch_from_df(X_keys+Y_keys, df, batch_size=128, record_transform=None, \n",
    "                                  data_path=data_path)\n",
    "    while True:\n",
    "        batch = next(batch_gen)\n",
    "        X = [batch[k] for k in X_keys]\n",
    "        Y = [batch[k] for k in Y_keys]\n",
    "        yield X,Y"
   ]
  },
  {
   "cell_type": "code",
   "execution_count": 48,
   "metadata": {
    "collapsed": true
   },
   "outputs": [],
   "source": [
    "img_gen = get_batch_from_df(['cam/image_array'], df, batch_size=len(df), data_path=tub_path)\n",
    "img = next(img_gen)"
   ]
  },
  {
   "cell_type": "code",
   "execution_count": 49,
   "metadata": {
    "collapsed": true
   },
   "outputs": [],
   "source": [
    "predictions = m.predict(img['cam/image_array'])"
   ]
  },
  {
   "cell_type": "code",
   "execution_count": 50,
   "metadata": {
    "collapsed": true
   },
   "outputs": [],
   "source": [
    "df['pilot/angle'] = predictions[0]"
   ]
  },
  {
   "cell_type": "code",
   "execution_count": 56,
   "metadata": {},
   "outputs": [
    {
     "data": {
      "text/plain": [
       "<matplotlib.axes._subplots.AxesSubplot at 0x7fd0ef62e6a0>"
      ]
     },
     "execution_count": 56,
     "metadata": {},
     "output_type": "execute_result"
    },
    {
     "data": {
      "image/png": "[encoded data removed]",
      "text/plain": [
       "<matplotlib.figure.Figure at 0x7fd0ef6334a8>"
      ]
     },
     "metadata": {},
     "output_type": "display_data"
    }
   ],
   "source": [
    "df[['user/angle', 'pilot/angle']][2500:3000].plot()"
   ]
  },
  {
   "cell_type": "code",
   "execution_count": 39,
   "metadata": {
    "collapsed": true
   },
   "outputs": [],
   "source": []
  },
  {
   "cell_type": "code",
   "execution_count": null,
   "metadata": {
    "collapsed": true
   },
   "outputs": [],
   "source": [
    "predictions = m.predict"
   ]
  },
  {
   "cell_type": "markdown",
   "metadata": {},
   "source": [
    "## Train\n",
    "This is the current way models are trained..."
   ]
  },
  {
   "cell_type": "code",
   "execution_count": null,
   "metadata": {
    "collapsed": true
   },
   "outputs": [],
   "source": []
  },
  {
   "cell_type": "code",
   "execution_count": null,
   "metadata": {
    "collapsed": true
   },
   "outputs": [],
   "source": [
    "def train(cfg, tub_names, model_name):\n",
    "    '''\n",
    "    use the specified data in tub_names to train an artifical neural network\n",
    "    saves the output trained model as model_name\n",
    "    '''\n",
    "    X_keys = ['cam/image_array']\n",
    "    y_keys = ['user/angle', 'user/throttle']\n",
    "    \n",
    "    def rt(record):\n",
    "        record['user/angle'] = dk.utils.linear_bin(record['user/angle'])\n",
    "        return record\n",
    "\n",
    "    kl = dk.parts.KerasCategorical()\n",
    "    \n",
    "    tubs = gather_tubs(cfg, tub_names)\n",
    "\n",
    "    import itertools\n",
    "\n",
    "    gens = [tub.train_val_gen(X_keys, y_keys, \n",
    "                              record_transform=rt, \n",
    "                              batch_size=cfg.BATCH_SIZE, \n",
    "                              train_split=cfg.TRAIN_TEST_SPLIT) for tub in tubs]\n",
    "\n",
    "\n",
    "    # Training data generator is the one that keeps cycling through training data generator of all tubs chained together\n",
    "    # The same for validation generator\n",
    "    train_gens = itertools.cycle(itertools.chain(*[gen[0] for gen in gens]))\n",
    "    val_gens = itertools.cycle(itertools.chain(*[gen[1] for gen in gens]))\n",
    "\n",
    "    model_path = os.path.expanduser(model_name)\n",
    "\n",
    "    total_records = sum([t.get_num_records() for t in tubs])\n",
    "    total_train = int(total_records * cfg.TRAIN_TEST_SPLIT)\n",
    "    total_val = total_records - total_train\n",
    "    print('train: %d, validation: %d' %(total_train, total_val))\n",
    "    steps_per_epoch = total_train // cfg.BATCH_SIZE\n",
    "    print('steps_per_epoch', steps_per_epoch)\n",
    "\n",
    "    kl.train(train_gens, \n",
    "        val_gens, \n",
    "        saved_model_path=model_path,\n",
    "        steps=steps_per_epoch,\n",
    "        train_split=cfg.TRAIN_TEST_SPLIT)"
   ]
  },
  {
   "cell_type": "code",
   "execution_count": null,
   "metadata": {
    "collapsed": true
   },
   "outputs": [],
   "source": [
    "def custom_train(cfg, tub_names, model_name):\n",
    "    '''\n",
    "    use the specified data in tub_names to train an artifical neural network\n",
    "    saves the output trained model as model_name\n",
    "    '''\n",
    "    import sklearn\n",
    "    from sklearn.model_selection import train_test_split\n",
    "    from sklearn.utils import shuffle\n",
    "    import random\n",
    "    from PIL import Image\n",
    "    import numpy as np\n",
    "\n",
    "    images = []\n",
    "    angles = []\n",
    "    throttles = []\n",
    "\n",
    "    tubs = gather_tubs(cfg, tub_names)\n",
    "\n",
    "    for tub in tubs:\n",
    "        num_records = tub.get_num_records()\n",
    "        for iRec in range(0, num_records):\n",
    "            record = tub.get_json_record(iRec)\n",
    "\n",
    "            user_angle = dk.utils.linear_bin(record['user/angle'])\n",
    "            user_throttle = float(record[\"user/throttle\"])\n",
    "            image_filename = record[\"cam/image_array\"]\n",
    "            image_path = os.path.join(tub.path, image_filename)\n",
    "            \n",
    "            if (user_angle[7] != 1.0):\n",
    "                #if the categorical angle is not in the 0 bucket, always include it\n",
    "                images.append(image_path)\n",
    "                angles.append(user_angle)\n",
    "                throttles.append(user_throttle)\n",
    "            elif (random.randint(0, 9) < 2):\n",
    "                #Drop a percentage of records where categorical angle is in the 0 bucket\n",
    "                #increase the number in the conditional above to include more records\n",
    "                #(< 2 = 20% of 0 angle records included, < 3 = 30% of 0 angle records included, etc.)\n",
    "                images.append(image_path)\n",
    "                angles.append(user_angle)\n",
    "                throttles.append(user_throttle)\n",
    "\n",
    "    #shuffle and split the data\n",
    "    train_images, val_images, train_angles, val_angles, train_throttles, val_throttles = train_test_split(images, angles, throttles, shuffle=True, test_size=(1 - cfg.TRAIN_TEST_SPLIT))\n",
    "\n",
    "    def generator(images, angles, throttles, batch_size=cfg.BATCH_SIZE):\n",
    "        num_records = len(images)\n",
    "\n",
    "        while True:\n",
    "            #shuffle again for good measure\n",
    "            shuffle(images, angles, throttles)\n",
    "\n",
    "            for offset in range(0, num_records, batch_size):\n",
    "                batch_images = images[offset:offset+batch_size]\n",
    "                batch_angles = angles[offset:offset+batch_size]\n",
    "                batch_throttles = throttles[offset:offset+batch_size]\n",
    "\n",
    "                augmented_images = []\n",
    "                augmented_angles = []\n",
    "                augmented_throttles = []\n",
    "\n",
    "                for image_path, angle, throttle in zip(batch_images, batch_angles, batch_throttles):\n",
    "                    image = Image.open(image_path)\n",
    "                    image = np.array(image)\n",
    "                    augmented_images.append(image)\n",
    "                    augmented_angles.append(angle)\n",
    "                    augmented_throttles.append(throttle)\n",
    "\n",
    "                    if (angle[7] != 1.0):\n",
    "                        #augment the data set with flipped versions of the nonzero angle records\n",
    "                        augmented_images.append(np.fliplr(image))\n",
    "                        augmented_angles.append(np.flip(angle, axis=0))\n",
    "                        augmented_throttles.append(throttle)\n",
    "\n",
    "                augmented_images = np.array(augmented_images)\n",
    "                augmented_angles =  np.array(augmented_angles)\n",
    "                augmented_throttles = np.array(augmented_throttles)\n",
    "\n",
    "                X = [augmented_images]\n",
    "                y = [augmented_angles, augmented_throttles]\n",
    "\n",
    "                yield X, y\n",
    "\n",
    "    train_gen = generator(train_images, train_angles, train_throttles)\n",
    "    val_gen = generator(val_images, val_angles, val_throttles)\n",
    "\n",
    "    kl = dk.parts.KerasCategorical()\n",
    "    \n",
    "    tubs = gather_tubs(cfg, tub_names)\n",
    "    model_path = os.path.expanduser(model_name)\n",
    "\n",
    "    total_records = len(images)\n",
    "    total_train = len(train_images)\n",
    "    total_val = len(val_images)\n",
    "\n",
    "    print('train: %d, validation: %d' %(total_train, total_val))\n",
    "    steps_per_epoch = total_train // cfg.BATCH_SIZE\n",
    "    print('steps_per_epoch', steps_per_epoch)\n",
    "\n",
    "    kl.train(train_gen, \n",
    "        val_gen, \n",
    "        saved_model_path=model_path,\n",
    "        steps=steps_per_epoch,\n",
    "        train_split=cfg.TRAIN_TEST_SPLIT)"
   ]
  }
 ],
 "metadata": {
  "kernelspec": {
   "display_name": "Python 3",
   "language": "python",
   "name": "python3"
  },
  "language_info": {
   "codemirror_mode": {
    "name": "ipython",
    "version": 3
   },
   "file_extension": ".py",
   "mimetype": "text/x-python",
   "name": "python",
   "nbconvert_exporter": "python",
   "pygments_lexer": "ipython3",
   "version": "3.5.4"
  }
 },
 "nbformat": 4,
 "nbformat_minor": 2
}
