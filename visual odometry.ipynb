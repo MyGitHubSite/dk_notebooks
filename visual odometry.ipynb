{
 "cells": [
  {
   "cell_type": "markdown",
   "metadata": {},
   "source": [
    "# Visual Odometry\n",
    "\n",
    "Visual odmetry is process of determining the position and orientation of a robot by analyzing the associated camera images. This could really help donkey cars because the standard build doesn't have an odometer so there is now way to garantee a specific speed.\n",
    "\n",
    "This notebook attempts to output the speed, change in angle. \n",
    "\n",
    "Much of this information is borrowed from "
   ]
  },
  {
   "cell_type": "code",
   "execution_count": null,
   "metadata": {
    "collapsed": true
   },
   "outputs": [],
   "source": [
    "import numpy as np \n",
    "import cv2"
   ]
  },
  {
   "cell_type": "code",
   "execution_count": null,
   "metadata": {
    "collapsed": true
   },
   "outputs": [],
   "source": []
  },
  {
   "cell_type": "code",
   "execution_count": 2,
   "metadata": {
    "collapsed": true
   },
   "outputs": [],
   "source": [
    "\n",
    "\n",
    "\n",
    "\n",
    "lk_params = dict(winSize  = (21, 21), \n",
    "                #maxLevel = 3,\n",
    "                 criteria = (cv2.TERM_CRITERIA_EPS | cv2.TERM_CRITERIA_COUNT, 30, 0.01))\n",
    "\n",
    "def featureTracking(image_ref, image_cur, px_ref):\n",
    "    kp2, st, err = cv2.calcOpticalFlowPyrLK(image_ref, image_cur, px_ref, None, **lk_params)  #shape: [k,2] [k,1] [k,1]\n",
    "    st = st.reshape(st.shape[0])\n",
    "    kp1 = px_ref[st == 1]\n",
    "    kp2 = kp2[st == 1]\n",
    "\n",
    "    return kp1, kp2\n",
    "\n",
    "\n",
    "class PinholeCamera:\n",
    "    def __init__(self, width, height, fx, fy, cx, cy, \n",
    "                k1=0.0, k2=0.0, p1=0.0, p2=0.0, k3=0.0):\n",
    "        self.width = width\n",
    "        self.height = height\n",
    "        self.fx = fx\n",
    "        self.fy = fy\n",
    "        self.cx = cx\n",
    "        self.cy = cy\n",
    "        self.distortion = (abs(k1) > 0.0000001)\n",
    "        self.d = [k1, k2, p1, p2, k3]\n",
    "\n",
    "\n",
    "class VisualOdometry:\n",
    "    def __init__(self, cam):\n",
    "        self.frame_stage = 0\n",
    "        self.cam = cam\n",
    "        self.new_frame = None\n",
    "        self.last_frame = None\n",
    "        self.cur_R = None\n",
    "        self.cur_t = None\n",
    "        self.px_ref = None\n",
    "        self.px_cur = None\n",
    "        self.focal = cam.fx\n",
    "        self.pp = (cam.cx, cam.cy)\n",
    "        self.trueX, self.trueY, self.trueZ = 0, 0, 0\n",
    "        self.detector = cv2.FastFeatureDetector_create(threshold=25, nonmaxSuppression=True)\n",
    "\n",
    "    \"\"\"\n",
    "    def getAbsoluteScale(self, frame_id):  #specialized for KITTI odometry dataset\n",
    "        ss = self.annotations[frame_id-1].strip().split()\n",
    "        x_prev = float(ss[3])\n",
    "        y_prev = float(ss[7])\n",
    "        z_prev = float(ss[11])\n",
    "        ss = self.annotations[frame_id].strip().split()\n",
    "        x = float(ss[3])\n",
    "        y = float(ss[7])\n",
    "        z = float(ss[11])\n",
    "        self.trueX, self.trueY, self.trueZ = x, y, z\n",
    "        return np.sqrt((x - x_prev)*(x - x_prev) + (y - y_prev)*(y - y_prev) + (z - z_prev)*(z - z_prev))\n",
    "    \"\"\"\n",
    "    \n",
    "    def processFirstFrame(self):\n",
    "        self.px_ref = self.detector.detect(self.new_frame)\n",
    "        self.px_ref = np.array([x.pt for x in self.px_ref], dtype=np.float32)\n",
    "        self.frame_stage = STAGE_SECOND_FRAME\n",
    "\n",
    "    def processSecondFrame(self):\n",
    "        self.px_ref, self.px_cur = featureTracking(self.last_frame, self.new_frame, self.px_ref)\n",
    "        E, mask = cv2.findEssentialMat(self.px_cur, self.px_ref, focal=self.focal, pp=self.pp, method=cv2.RANSAC, prob=0.999, threshold=1.0)\n",
    "        _, self.cur_R, self.cur_t, mask = cv2.recoverPose(E, self.px_cur, self.px_ref, focal=self.focal, pp = self.pp)\n",
    "        self.frame_stage = STAGE_DEFAULT_FRAME \n",
    "        self.px_ref = self.px_cur\n",
    "\n",
    "    def processFrame(self, frame_id):\n",
    "        self.px_ref, self.px_cur = featureTracking(self.last_frame, self.new_frame, self.px_ref)\n",
    "        E, mask = cv2.findEssentialMat(self.px_cur, self.px_ref, focal=self.focal, pp=self.pp, method=cv2.RANSAC, prob=0.999, threshold=1.0)\n",
    "        _, R, t, mask = cv2.recoverPose(E, self.px_cur, self.px_ref, focal=self.focal, pp = self.pp)\n",
    "        #absolute_scale = self.getAbsoluteScale(frame_id)\n",
    "        absolute_scale = .5\n",
    "        if(absolute_scale > 0.1):\n",
    "            self.cur_t = self.cur_t + absolute_scale*self.cur_R.dot(t) \n",
    "            self.cur_R = R.dot(self.cur_R)\n",
    "        if(self.px_ref.shape[0] < kMinNumFeature):\n",
    "            self.px_cur = self.detector.detect(self.new_frame)\n",
    "            self.px_cur = np.array([x.pt for x in self.px_cur], dtype=np.float32)\n",
    "        self.px_ref = self.px_cur\n",
    "\n",
    "    def update(self, img, frame_id):\n",
    "        assert(img.ndim==2 and img.shape[0]==self.cam.height and img.shape[1]==self.cam.width), \"Frame: provided image has not the same size as the camera model or image is not grayscale\"\n",
    "        self.new_frame = img\n",
    "        if(self.frame_stage == STAGE_DEFAULT_FRAME):\n",
    "            self.processFrame(frame_id)\n",
    "        elif(self.frame_stage == STAGE_SECOND_FRAME):\n",
    "            self.processSecondFrame()\n",
    "        elif(self.frame_stage == STAGE_FIRST_FRAME):\n",
    "            self.processFirstFrame()\n",
    "        self.last_frame = self.new_frame\n"
   ]
  },
  {
   "cell_type": "code",
   "execution_count": 26,
   "metadata": {
    "collapsed": true
   },
   "outputs": [],
   "source": [
    "import glob\n",
    "\n",
    "imgs_path = \"/home/wroscoe/d2/data/tub_34_17-08-12\"\n",
    "\n",
    "def get_img_list(imgs_path, ext='.png'):\n",
    "\n",
    "    imgs_re = os.path.join(imgs_path, '*'+ext)\n",
    "    print(imgs_re)\n",
    "    img_list = glob.glob(imgs_re)\n",
    "    img_list = sorted(img_list, key=lambda x: int(x.split('/')[-1].split('_')[0]))\n",
    "    return img_list\n",
    "\n"
   ]
  },
  {
   "cell_type": "code",
   "execution_count": 29,
   "metadata": {},
   "outputs": [
    {
     "name": "stdout",
     "output_type": "stream",
     "text": [
      "/home/wroscoe/d2/data/tub_34_17-08-12/*.png\n"
     ]
    },
    {
     "data": {
      "text/plain": [
       "True"
      ]
     },
     "execution_count": 29,
     "metadata": {},
     "output_type": "execute_result"
    }
   ],
   "source": [
    "import os\n",
    "import numpy as np \n",
    "import cv2\n",
    "\n",
    "#cam = PinholeCamera(1241.0, 376.0, 718.8560, 718.8560, 607.1928, 185.2157)\n",
    "cam = PinholeCamera(160.0, 120.0, 80.0, 80.0, 80.0, 16.0)\n",
    "\n",
    "\n",
    "vo = VisualOdometry(cam)\n",
    "\n",
    "traj = np.zeros((600,600,3), dtype=np.uint8)\n",
    "\n",
    "imgs_path = \"/home/wroscoe/d2/data/tub_34_17-08-12\"\n",
    "img_list = get_img_list(imgs_path)\n",
    "\n",
    "for img_id, img_path in enumerate(img_list[:1000]):\n",
    "    #print(img_path)\n",
    "    img = cv2.imread(img_path, 0)\n",
    "    #print(img_path)\n",
    "    vo.update(img, img_id)\n",
    "\n",
    "    cur_t = vo.cur_t\n",
    "    if(img_id > 2):\n",
    "        x, y, z = cur_t[0], cur_t[1], cur_t[2]\n",
    "    else:\n",
    "        x, y, z = 0., 0., 0.\n",
    "    draw_x, draw_y = int(x)+290, int(z)+90\n",
    "    true_x, true_y = int(vo.trueX)+290, int(vo.trueZ)+90\n",
    "\n",
    "    cv2.circle(traj, (draw_x,draw_y), 1, (img_id*255/4540,255-img_id*255/4540,0), 1)\n",
    "    cv2.circle(traj, (true_x,true_y), 1, (0,0,255), 2)\n",
    "    cv2.rectangle(traj, (10, 20), (600, 60), (0,0,0), -1)\n",
    "    text = \"Coordinates: x=%2fm y=%2fm z=%2fm\"%(x,y,z)\n",
    "    cv2.putText(traj, text, (20,40), cv2.FONT_HERSHEY_PLAIN, 1, (255,255,255), 1, 8)\n",
    "\n",
    "    #cv2.imshow('Road facing camera', img)\n",
    "    #cv2.imshow('Trajectory', traj)\n",
    "    #cv2.waitKey(1)\n",
    "\n",
    "cv2.imwrite('map.png', traj)\n"
   ]
  },
  {
   "cell_type": "code",
   "execution_count": 2,
   "metadata": {
    "collapsed": true
   },
   "outputs": [],
   "source": []
  },
  {
   "cell_type": "code",
   "execution_count": null,
   "metadata": {
    "collapsed": true
   },
   "outputs": [],
   "source": []
  }
 ],
 "metadata": {
  "kernelspec": {
   "display_name": "Python 3",
   "language": "python",
   "name": "python3"
  },
  "language_info": {
   "codemirror_mode": {
    "name": "ipython",
    "version": 3
   },
   "file_extension": ".py",
   "mimetype": "text/x-python",
   "name": "python",
   "nbconvert_exporter": "python",
   "pygments_lexer": "ipython3",
   "version": "3.5.4"
  }
 },
 "nbformat": 4,
 "nbformat_minor": 2
}
