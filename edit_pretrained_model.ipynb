{
 "cells": [
  {
   "cell_type": "markdown",
   "metadata": {},
   "source": [
    "# Edit a pretrained models\n",
    "\n",
    "Take an existing model that has been trained on many data sets and finish training it on a new dataset."
   ]
  },
  {
   "cell_type": "code",
   "execution_count": 18,
   "metadata": {},
   "outputs": [],
   "source": [
    "import keras"
   ]
  },
  {
   "cell_type": "markdown",
   "metadata": {},
   "source": [
    "### Save new model so it can be loaded later. "
   ]
  },
  {
   "cell_type": "code",
   "execution_count": 43,
   "metadata": {},
   "outputs": [],
   "source": [
    "base_model = '/home/wroscoe/models/all_lined_tracks_categorical.h5'\n",
    "new_model = '/home/wroscoe/models/rally.h5'"
   ]
  },
  {
   "cell_type": "markdown",
   "metadata": {},
   "source": [
    "###  Train on new data. "
   ]
  },
  {
   "cell_type": "code",
   "execution_count": 38,
   "metadata": {},
   "outputs": [],
   "source": [
    "import donkeycar as dk\n",
    "from donkeycar.parts.keras import KerasCategorical\n",
    "from donkeycar.parts.datastore import TubGroup"
   ]
  },
  {
   "cell_type": "code",
   "execution_count": 39,
   "metadata": {},
   "outputs": [
    {
     "name": "stdout",
     "output_type": "stream",
     "text": [
      "loading config file: /home/wroscoe/d2/config.py\n",
      "config loaded\n"
     ]
    }
   ],
   "source": [
    "cfg = dk.config.load_config('/home/wroscoe/d2/config.py')"
   ]
  },
  {
   "cell_type": "markdown",
   "metadata": {},
   "source": [
    "### Load base model."
   ]
  },
  {
   "cell_type": "code",
   "execution_count": 40,
   "metadata": {},
   "outputs": [
    {
     "name": "stdout",
     "output_type": "stream",
     "text": [
      "____________________________________________________________________________________________________\n",
      "Layer (type)                     Output Shape          Param #     Connected to                     \n",
      "====================================================================================================\n",
      "img_in (InputLayer)              (None, 120, 160, 3)   0                                            \n",
      "____________________________________________________________________________________________________\n",
      "conv2d_1 (Conv2D)                (None, 58, 78, 24)    1824        img_in[0][0]                     \n",
      "____________________________________________________________________________________________________\n",
      "conv2d_2 (Conv2D)                (None, 27, 37, 32)    19232       conv2d_1[0][0]                   \n",
      "____________________________________________________________________________________________________\n",
      "conv2d_3 (Conv2D)                (None, 12, 17, 64)    51264       conv2d_2[0][0]                   \n",
      "____________________________________________________________________________________________________\n",
      "conv2d_4 (Conv2D)                (None, 5, 8, 64)      36928       conv2d_3[0][0]                   \n",
      "____________________________________________________________________________________________________\n",
      "conv2d_5 (Conv2D)                (None, 3, 6, 64)      36928       conv2d_4[0][0]                   \n",
      "____________________________________________________________________________________________________\n",
      "flattened (Flatten)              (None, 1152)          0           conv2d_5[0][0]                   \n",
      "____________________________________________________________________________________________________\n",
      "dense_1 (Dense)                  (None, 100)           115300      flattened[0][0]                  \n",
      "____________________________________________________________________________________________________\n",
      "dropout_1 (Dropout)              (None, 100)           0           dense_1[0][0]                    \n",
      "____________________________________________________________________________________________________\n",
      "dense_2 (Dense)                  (None, 50)            5050        dropout_1[0][0]                  \n",
      "____________________________________________________________________________________________________\n",
      "dropout_2 (Dropout)              (None, 50)            0           dense_2[0][0]                    \n",
      "____________________________________________________________________________________________________\n",
      "angle_out (Dense)                (None, 15)            765         dropout_2[0][0]                  \n",
      "____________________________________________________________________________________________________\n",
      "throttle_out (Dense)             (None, 1)             51          dropout_2[0][0]                  \n",
      "====================================================================================================\n",
      "Total params: 267,342\n",
      "Trainable params: 267,342\n",
      "Non-trainable params: 0\n",
      "____________________________________________________________________________________________________\n"
     ]
    }
   ],
   "source": [
    "kl = KerasCategorical()\n",
    "kl.load(base_model)\n",
    "kl.model.summary()"
   ]
  },
  {
   "cell_type": "code",
   "execution_count": 41,
   "metadata": {},
   "outputs": [
    {
     "data": {
      "text/plain": [
       "[('img_in', False),\n",
       " ('conv2d_1', True),\n",
       " ('conv2d_2', True),\n",
       " ('conv2d_3', True),\n",
       " ('conv2d_4', True),\n",
       " ('conv2d_5', True),\n",
       " ('flattened', True),\n",
       " ('dense_1', True),\n",
       " ('dropout_1', True),\n",
       " ('dense_2', True),\n",
       " ('dropout_2', True),\n",
       " ('angle_out', True),\n",
       " ('throttle_out', True)]"
      ]
     },
     "execution_count": 41,
     "metadata": {},
     "output_type": "execute_result"
    }
   ],
   "source": [
    "#Check that the layers are trainable. \n",
    "[(l.name, l.trainable) for l in kl.model.layers]"
   ]
  },
  {
   "cell_type": "markdown",
   "metadata": {},
   "source": [
    "### Load new dataset"
   ]
  },
  {
   "cell_type": "code",
   "execution_count": 42,
   "metadata": {},
   "outputs": [
    {
     "name": "stdout",
     "output_type": "stream",
     "text": [
      "TubGroup:tubpaths: ['/home/wroscoe/data/rally/tub_15_17-11-27']\n",
      "path_in_tub: /home/wroscoe/data/rally/tub_15_17-11-27\n",
      "Tub exists: /home/wroscoe/data/rally/tub_15_17-11-27\n",
      "joining the tubs 1754 records together. This could take 0 minutes.\n"
     ]
    }
   ],
   "source": [
    "tub_names = ','.join(['/home/wroscoe/data/rally/tub_15_17-11-27/'])\n",
    "\n",
    "X_keys = ['cam/image_array']\n",
    "y_keys = ['user/angle', 'user/throttle']\n",
    "\n",
    "def rt(record):\n",
    "    record['user/angle'] = dk.utils.linear_bin(record['user/angle'])\n",
    "    return record\n",
    "\n",
    "tubgroup = TubGroup(tub_names)\n",
    "\n",
    "#Create data generators to train the network.\n",
    "train_gen, val_gen = tubgroup.get_train_val_gen(X_keys, y_keys, record_transform=rt,\n",
    "                                                batch_size=cfg.BATCH_SIZE,\n",
    "                                                train_frac=cfg.TRAIN_TEST_SPLIT)\n"
   ]
  },
  {
   "cell_type": "code",
   "execution_count": 44,
   "metadata": {
    "scrolled": true
   },
   "outputs": [
    {
     "name": "stdout",
     "output_type": "stream",
     "text": [
      "train: 1403, validation: 351\n",
      "steps_per_epoch 10\n",
      "Epoch 1/100\n",
      " 9/10 [==========================>...] - ETA: 1s - loss: 2.0937 - angle_out_loss: 2.3260 - throttle_out_loss: 0.3094Epoch 00000: val_loss improved from inf to 1.46585, saving model to /home/wroscoe/models/rally.h5\n",
      "10/10 [==============================] - 12s - loss: 2.0329 - angle_out_loss: 2.2584 - throttle_out_loss: 0.3047 - val_loss: 1.4659 - val_angle_out_loss: 1.6285 - val_throttle_out_loss: 0.2297\n",
      "Epoch 2/100\n",
      " 9/10 [==========================>...] - ETA: 1s - loss: 1.3277 - angle_out_loss: 1.4750 - throttle_out_loss: 0.2366Epoch 00001: val_loss improved from 1.46585 to 1.28266, saving model to /home/wroscoe/models/rally.h5\n",
      "10/10 [==============================] - 12s - loss: 1.3155 - angle_out_loss: 1.4614 - throttle_out_loss: 0.2344 - val_loss: 1.2827 - val_angle_out_loss: 1.4250 - val_throttle_out_loss: 0.1694\n",
      "Epoch 3/100\n",
      " 9/10 [==========================>...] - ETA: 1s - loss: 1.1868 - angle_out_loss: 1.3185 - throttle_out_loss: 0.2138Epoch 00002: val_loss improved from 1.28266 to 1.18288, saving model to /home/wroscoe/models/rally.h5\n",
      "10/10 [==============================] - 17s - loss: 1.1644 - angle_out_loss: 1.2936 - throttle_out_loss: 0.2170 - val_loss: 1.1829 - val_angle_out_loss: 1.3141 - val_throttle_out_loss: 0.1827\n",
      "Epoch 4/100\n",
      " 9/10 [==========================>...] - ETA: 1s - loss: 0.9951 - angle_out_loss: 1.1055 - throttle_out_loss: 0.1934Epoch 00003: val_loss improved from 1.18288 to 1.15409, saving model to /home/wroscoe/models/rally.h5\n",
      "10/10 [==============================] - 14s - loss: 0.9844 - angle_out_loss: 1.0936 - throttle_out_loss: 0.1916 - val_loss: 1.1541 - val_angle_out_loss: 1.2821 - val_throttle_out_loss: 0.1749\n",
      "Epoch 5/100\n",
      " 9/10 [==========================>...] - ETA: 1s - loss: 0.8645 - angle_out_loss: 0.9604 - throttle_out_loss: 0.1998Epoch 00004: val_loss did not improve\n",
      "10/10 [==============================] - 13s - loss: 0.8586 - angle_out_loss: 0.9537 - throttle_out_loss: 0.1997 - val_loss: 1.3020 - val_angle_out_loss: 1.4465 - val_throttle_out_loss: 0.1589\n",
      "Epoch 6/100\n",
      " 9/10 [==========================>...] - ETA: 1s - loss: 0.7752 - angle_out_loss: 0.8611 - throttle_out_loss: 0.1790Epoch 00005: val_loss improved from 1.15409 to 0.88464, saving model to /home/wroscoe/models/rally.h5\n",
      "10/10 [==============================] - 15s - loss: 0.7752 - angle_out_loss: 0.8611 - throttle_out_loss: 0.1788 - val_loss: 0.8846 - val_angle_out_loss: 0.9828 - val_throttle_out_loss: 0.1446\n",
      "Epoch 7/100\n",
      " 9/10 [==========================>...] - ETA: 1s - loss: 0.6583 - angle_out_loss: 0.7313 - throttle_out_loss: 0.1616Epoch 00006: val_loss did not improve\n",
      "10/10 [==============================] - 15s - loss: 0.6595 - angle_out_loss: 0.7326 - throttle_out_loss: 0.1616 - val_loss: 1.1018 - val_angle_out_loss: 1.2241 - val_throttle_out_loss: 0.1268\n",
      "Epoch 8/100\n",
      " 9/10 [==========================>...] - ETA: 1s - loss: 0.6186 - angle_out_loss: 0.6872 - throttle_out_loss: 0.1637Epoch 00007: val_loss did not improve\n",
      "10/10 [==============================] - 14s - loss: 0.6301 - angle_out_loss: 0.6999 - throttle_out_loss: 0.1604 - val_loss: 1.0303 - val_angle_out_loss: 1.1447 - val_throttle_out_loss: 0.1491\n",
      "Epoch 9/100\n",
      " 9/10 [==========================>...] - ETA: 1s - loss: 0.5413 - angle_out_loss: 0.6013 - throttle_out_loss: 0.1543Epoch 00008: val_loss did not improve\n",
      "10/10 [==============================] - 13s - loss: 0.5327 - angle_out_loss: 0.5917 - throttle_out_loss: 0.1537 - val_loss: 1.2016 - val_angle_out_loss: 1.3349 - val_throttle_out_loss: 0.1366\n",
      "Epoch 10/100\n",
      " 9/10 [==========================>...] - ETA: 1s - loss: 0.5497 - angle_out_loss: 0.6106 - throttle_out_loss: 0.1675Epoch 00009: val_loss did not improve\n",
      "10/10 [==============================] - 13s - loss: 0.5441 - angle_out_loss: 0.6044 - throttle_out_loss: 0.1675 - val_loss: 0.9793 - val_angle_out_loss: 1.0880 - val_throttle_out_loss: 0.1162\n",
      "Epoch 11/100\n",
      " 9/10 [==========================>...] - ETA: 1s - loss: 0.5045 - angle_out_loss: 0.5604 - throttle_out_loss: 0.1402Epoch 00010: val_loss improved from 0.88464 to 0.88070, saving model to /home/wroscoe/models/rally.h5\n",
      "10/10 [==============================] - 13s - loss: 0.4903 - angle_out_loss: 0.5447 - throttle_out_loss: 0.1394 - val_loss: 0.8807 - val_angle_out_loss: 0.9784 - val_throttle_out_loss: 0.1014\n",
      "Epoch 12/100\n",
      " 9/10 [==========================>...] - ETA: 1s - loss: 0.4213 - angle_out_loss: 0.4679 - throttle_out_loss: 0.1259Epoch 00011: val_loss did not improve\n",
      "10/10 [==============================] - 14s - loss: 0.4163 - angle_out_loss: 0.4624 - throttle_out_loss: 0.1259 - val_loss: 0.9069 - val_angle_out_loss: 1.0076 - val_throttle_out_loss: 0.0987\n",
      "Epoch 13/100\n",
      " 9/10 [==========================>...] - ETA: 1s - loss: 0.3685 - angle_out_loss: 0.4093 - throttle_out_loss: 0.1312Epoch 00012: val_loss did not improve\n",
      "10/10 [==============================] - 14s - loss: 0.3684 - angle_out_loss: 0.4092 - throttle_out_loss: 0.1316 - val_loss: 0.9826 - val_angle_out_loss: 1.0917 - val_throttle_out_loss: 0.1155\n",
      "Epoch 14/100\n",
      " 9/10 [==========================>...] - ETA: 1s - loss: 0.3381 - angle_out_loss: 0.3755 - throttle_out_loss: 0.1401Epoch 00013: val_loss did not improve\n",
      "10/10 [==============================] - 13s - loss: 0.3380 - angle_out_loss: 0.3754 - throttle_out_loss: 0.1384 - val_loss: 0.9761 - val_angle_out_loss: 1.0844 - val_throttle_out_loss: 0.1312\n",
      "Epoch 15/100\n",
      " 9/10 [==========================>...] - ETA: 1s - loss: 0.3281 - angle_out_loss: 0.3645 - throttle_out_loss: 0.1186Epoch 00014: val_loss did not improve\n",
      "10/10 [==============================] - 13s - loss: 0.3168 - angle_out_loss: 0.3518 - throttle_out_loss: 0.1176 - val_loss: 0.9971 - val_angle_out_loss: 1.1078 - val_throttle_out_loss: 0.1014\n",
      "Epoch 16/100\n",
      " 9/10 [==========================>...] - ETA: 1s - loss: 0.3233 - angle_out_loss: 0.3590 - throttle_out_loss: 0.1169Epoch 00015: val_loss improved from 0.88070 to 0.87802, saving model to /home/wroscoe/models/rally.h5\n",
      "10/10 [==============================] - 14s - loss: 0.3305 - angle_out_loss: 0.3671 - throttle_out_loss: 0.1166 - val_loss: 0.8780 - val_angle_out_loss: 0.9754 - val_throttle_out_loss: 0.1296\n",
      "Epoch 17/100\n",
      " 9/10 [==========================>...] - ETA: 1s - loss: 0.2977 - angle_out_loss: 0.3306 - throttle_out_loss: 0.1345Epoch 00016: val_loss did not improve\n",
      "10/10 [==============================] - 13s - loss: 0.2964 - angle_out_loss: 0.3292 - throttle_out_loss: 0.1330 - val_loss: 1.1212 - val_angle_out_loss: 1.2457 - val_throttle_out_loss: 0.1345\n",
      "Epoch 18/100\n",
      " 9/10 [==========================>...] - ETA: 1s - loss: 0.2858 - angle_out_loss: 0.3174 - throttle_out_loss: 0.1428Epoch 00017: val_loss did not improve\n",
      "10/10 [==============================] - 13s - loss: 0.2812 - angle_out_loss: 0.3123 - throttle_out_loss: 0.1383 - val_loss: 1.3335 - val_angle_out_loss: 1.4816 - val_throttle_out_loss: 0.1029\n",
      "Epoch 19/100\n",
      " 9/10 [==========================>...] - ETA: 1s - loss: 0.2853 - angle_out_loss: 0.3169 - throttle_out_loss: 0.1279Epoch 00018: val_loss did not improve\n",
      "10/10 [==============================] - 13s - loss: 0.2892 - angle_out_loss: 0.3212 - throttle_out_loss: 0.1310 - val_loss: 1.0109 - val_angle_out_loss: 1.1231 - val_throttle_out_loss: 0.1104\n",
      "Epoch 20/100\n",
      " 9/10 [==========================>...] - ETA: 1s - loss: 0.2548 - angle_out_loss: 0.2829 - throttle_out_loss: 0.1315Epoch 00019: val_loss improved from 0.87802 to 0.87797, saving model to /home/wroscoe/models/rally.h5\n",
      "10/10 [==============================] - 13s - loss: 0.2620 - angle_out_loss: 0.2910 - throttle_out_loss: 0.1330 - val_loss: 0.8780 - val_angle_out_loss: 0.9754 - val_throttle_out_loss: 0.1120\n",
      "Epoch 21/100\n",
      " 9/10 [==========================>...] - ETA: 1s - loss: 0.2526 - angle_out_loss: 0.2806 - throttle_out_loss: 0.1290Epoch 00020: val_loss improved from 0.87797 to 0.85722, saving model to /home/wroscoe/models/rally.h5\n",
      "10/10 [==============================] - 13s - loss: 0.2486 - angle_out_loss: 0.2761 - throttle_out_loss: 0.1259 - val_loss: 0.8572 - val_angle_out_loss: 0.9524 - val_throttle_out_loss: 0.0892\n",
      "Epoch 22/100\n"
     ]
    },
    {
     "name": "stdout",
     "output_type": "stream",
     "text": [
      " 9/10 [==========================>...] - ETA: 1s - loss: 0.2399 - angle_out_loss: 0.2664 - throttle_out_loss: 0.1170Epoch 00021: val_loss did not improve\n",
      "10/10 [==============================] - 13s - loss: 0.2359 - angle_out_loss: 0.2619 - throttle_out_loss: 0.1165 - val_loss: 1.1544 - val_angle_out_loss: 1.2826 - val_throttle_out_loss: 0.0774\n",
      "Epoch 23/100\n",
      " 9/10 [==========================>...] - ETA: 1s - loss: 0.2016 - angle_out_loss: 0.2239 - throttle_out_loss: 0.1055Epoch 00022: val_loss did not improve\n",
      "10/10 [==============================] - 13s - loss: 0.2003 - angle_out_loss: 0.2225 - throttle_out_loss: 0.1052 - val_loss: 1.4781 - val_angle_out_loss: 1.6422 - val_throttle_out_loss: 0.0759\n",
      "Epoch 24/100\n",
      " 9/10 [==========================>...] - ETA: 1s - loss: 0.2187 - angle_out_loss: 0.2428 - throttle_out_loss: 0.1390Epoch 00023: val_loss did not improve\n",
      "10/10 [==============================] - 13s - loss: 0.2104 - angle_out_loss: 0.2336 - throttle_out_loss: 0.1394 - val_loss: 1.0192 - val_angle_out_loss: 1.1324 - val_throttle_out_loss: 0.0830\n",
      "Epoch 25/100\n",
      " 9/10 [==========================>...] - ETA: 1s - loss: 0.2121 - angle_out_loss: 0.2356 - throttle_out_loss: 0.1079Epoch 00024: val_loss did not improve\n",
      "10/10 [==============================] - 14s - loss: 0.2127 - angle_out_loss: 0.2362 - throttle_out_loss: 0.1072 - val_loss: 1.2298 - val_angle_out_loss: 1.3663 - val_throttle_out_loss: 0.1035\n",
      "Epoch 26/100\n",
      " 9/10 [==========================>...] - ETA: 1s - loss: 0.1912 - angle_out_loss: 0.2124 - throttle_out_loss: 0.1153Epoch 00025: val_loss did not improve\n",
      "10/10 [==============================] - 13s - loss: 0.1834 - angle_out_loss: 0.2037 - throttle_out_loss: 0.1173 - val_loss: 1.1849 - val_angle_out_loss: 1.3164 - val_throttle_out_loss: 0.1068\n",
      "Epoch 27/100\n",
      " 9/10 [==========================>...] - ETA: 1s - loss: 0.2162 - angle_out_loss: 0.2401 - throttle_out_loss: 0.1328Epoch 00026: val_loss did not improve\n",
      "10/10 [==============================] - 14s - loss: 0.2410 - angle_out_loss: 0.2677 - throttle_out_loss: 0.1298 - val_loss: 0.9331 - val_angle_out_loss: 1.0367 - val_throttle_out_loss: 0.1150\n",
      "Epoch 00026: early stopping\n"
     ]
    },
    {
     "data": {
      "text/plain": [
       "<keras.callbacks.History at 0x7f210a2f7f28>"
      ]
     },
     "execution_count": 44,
     "metadata": {},
     "output_type": "execute_result"
    }
   ],
   "source": [
    "total_records = len(tubgroup.df)\n",
    "total_train = int(total_records * cfg.TRAIN_TEST_SPLIT)\n",
    "total_val = total_records - total_train\n",
    "print('train: %d, validation: %d' % (total_train, total_val))\n",
    "steps_per_epoch = total_train // cfg.BATCH_SIZE\n",
    "print('steps_per_epoch', steps_per_epoch)\n",
    "\n",
    "kl.train(train_gen,\n",
    "         val_gen,\n",
    "         saved_model_path=new_model,\n",
    "         steps=steps_per_epoch,\n",
    "         train_split=cfg.TRAIN_TEST_SPLIT)"
   ]
  },
  {
   "cell_type": "code",
   "execution_count": null,
   "metadata": {},
   "outputs": [],
   "source": []
  }
 ],
 "metadata": {
  "kernelspec": {
   "display_name": "Python 3",
   "language": "python",
   "name": "python3"
  },
  "language_info": {
   "codemirror_mode": {
    "name": "ipython",
    "version": 3
   },
   "file_extension": ".py",
   "mimetype": "text/x-python",
   "name": "python",
   "nbconvert_exporter": "python",
   "pygments_lexer": "ipython3",
   "version": "3.6.2"
  }
 },
 "nbformat": 4,
 "nbformat_minor": 2
}
