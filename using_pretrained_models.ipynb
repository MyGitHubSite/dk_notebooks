{
 "cells": [
  {
   "cell_type": "markdown",
   "metadata": {},
   "source": [
    "# Editing pretrained models\n"
   ]
  },
  {
   "cell_type": "code",
   "execution_count": 1,
   "metadata": {},
   "outputs": [
    {
     "name": "stderr",
     "output_type": "stream",
     "text": [
      "Using TensorFlow backend.\n"
     ]
    }
   ],
   "source": [
    "\n",
    "\n",
    "import keras\n",
    "import numpy as np\n",
    "import os\n",
    "import numpy as np\n",
    "import keras\n",
    "from keras.layers import Input, Dense, merge\n",
    "from keras.models import Model\n",
    "from keras.layers import Convolution2D, MaxPooling2D, Reshape, BatchNormalization\n",
    "from keras.layers import Activation, Dropout, Flatten, Dense\n"
   ]
  },
  {
   "cell_type": "markdown",
   "metadata": {},
   "source": [
    "### Load pretrained network\n",
    "This is hopefully a network that has been trained on a huge dataset. Only the convolution layers of this network will be used. "
   ]
  },
  {
   "cell_type": "code",
   "execution_count": 2,
   "metadata": {},
   "outputs": [
    {
     "name": "stdout",
     "output_type": "stream",
     "text": [
      "____________________________________________________________________________________________________\n",
      "Layer (type)                     Output Shape          Param #     Connected to                     \n",
      "====================================================================================================\n",
      "img_in (InputLayer)              (None, 120, 160, 3)   0                                            \n",
      "____________________________________________________________________________________________________\n",
      "conv2d_1 (Conv2D)                (None, 58, 78, 24)    1824        img_in[0][0]                     \n",
      "____________________________________________________________________________________________________\n",
      "conv2d_2 (Conv2D)                (None, 27, 37, 32)    19232       conv2d_1[0][0]                   \n",
      "____________________________________________________________________________________________________\n",
      "conv2d_3 (Conv2D)                (None, 12, 17, 64)    51264       conv2d_2[0][0]                   \n",
      "____________________________________________________________________________________________________\n",
      "conv2d_4 (Conv2D)                (None, 5, 8, 64)      36928       conv2d_3[0][0]                   \n",
      "____________________________________________________________________________________________________\n",
      "conv2d_5 (Conv2D)                (None, 3, 6, 64)      36928       conv2d_4[0][0]                   \n",
      "____________________________________________________________________________________________________\n",
      "flattened (Flatten)              (None, 1152)          0           conv2d_5[0][0]                   \n",
      "____________________________________________________________________________________________________\n",
      "dense_1 (Dense)                  (None, 100)           115300      flattened[0][0]                  \n",
      "____________________________________________________________________________________________________\n",
      "dropout_1 (Dropout)              (None, 100)           0           dense_1[0][0]                    \n",
      "____________________________________________________________________________________________________\n",
      "dense_2 (Dense)                  (None, 50)            5050        dropout_1[0][0]                  \n",
      "____________________________________________________________________________________________________\n",
      "dropout_2 (Dropout)              (None, 50)            0           dense_2[0][0]                    \n",
      "____________________________________________________________________________________________________\n",
      "angle_out (Dense)                (None, 15)            765         dropout_2[0][0]                  \n",
      "____________________________________________________________________________________________________\n",
      "throttle_out (Dense)             (None, 1)             51          dropout_2[0][0]                  \n",
      "====================================================================================================\n",
      "Total params: 267,342\n",
      "Trainable params: 267,342\n",
      "Non-trainable params: 0\n",
      "____________________________________________________________________________________________________\n"
     ]
    }
   ],
   "source": [
    "m = keras.models.load_model('/home/wroscoe/d2/models/all.h5')\n",
    "m.summary()"
   ]
  },
  {
   "cell_type": "markdown",
   "metadata": {},
   "source": [
    "When loaded Every layer except the top layer is trainable. "
   ]
  },
  {
   "cell_type": "code",
   "execution_count": 3,
   "metadata": {},
   "outputs": [
    {
     "data": {
      "text/plain": [
       "[('img_in', False),\n",
       " ('conv2d_1', True),\n",
       " ('conv2d_2', True),\n",
       " ('conv2d_3', True),\n",
       " ('conv2d_4', True),\n",
       " ('conv2d_5', True),\n",
       " ('flattened', True),\n",
       " ('dense_1', True),\n",
       " ('dropout_1', True),\n",
       " ('dense_2', True),\n",
       " ('dropout_2', True),\n",
       " ('angle_out', True),\n",
       " ('throttle_out', True)]"
      ]
     },
     "execution_count": 3,
     "metadata": {},
     "output_type": "execute_result"
    }
   ],
   "source": [
    "[(l.name, l.trainable) for l in m.layers]"
   ]
  },
  {
   "cell_type": "markdown",
   "metadata": {},
   "source": [
    "### Make all the layers of the loaded network NOT trainable."
   ]
  },
  {
   "cell_type": "code",
   "execution_count": 4,
   "metadata": {},
   "outputs": [],
   "source": [
    "#make all layers of the loaded network trainable\n",
    "for l in m.layers:\n",
    "    l.trainable = False"
   ]
  },
  {
   "cell_type": "markdown",
   "metadata": {},
   "source": [
    "### Splice a tail to the network that is initialized (random) and trainable."
   ]
  },
  {
   "cell_type": "code",
   "execution_count": 5,
   "metadata": {},
   "outputs": [],
   "source": [
    "def add_tail_network(start_tensor, end_tensor):\n",
    "    #x = Flatten(name='flattened')(x)                                        # Flatten to 1D (Fully connected)\n",
    "    x = Dense(100, activation='relu', name=\"tail_dense_1\")(end_tensor)                                    # Classify the data into 100 features, make all negatives 0\n",
    "    x = Dropout(.1)(x)                                                      # Randomly drop out (turn off) 10% of the neurons (Prevent overfitting)\n",
    "    x = Dense(50, activation='relu')(x)                                     # Classify the data into 50 features, make all negatives 0\n",
    "    x = Dropout(.1)(x)                                                      # Randomly drop out 10% of the neurons (Prevent overfitting)\n",
    "    #categorical output of the angle\n",
    "    angle_out = Dense(15, activation='softmax', name='angle_out')(x)        # Connect every input with every output and output 15 hidden units. Use Softmax to give percentage. 15 categories and find best one based off percentage 0.0-1.0\n",
    "    \n",
    "    #continous output of throttle\n",
    "    throttle_out = Dense(1, activation='relu', name='throttle_out')(x)      # Reduce to 1 number, Positive number only\n",
    "    \n",
    "    model = Model(inputs=[start_tensor], outputs=[angle_out, throttle_out])\n",
    "    model.compile(optimizer='rmsprop',\n",
    "                  loss={'angle_out': 'categorical_crossentropy', \n",
    "                        'throttle_out': 'mean_absolute_error'},\n",
    "                  loss_weights={'angle_out': 0.9, 'throttle_out': .001})\n",
    "\n",
    "    return model"
   ]
  },
  {
   "cell_type": "code",
   "execution_count": 6,
   "metadata": {},
   "outputs": [
    {
     "name": "stdout",
     "output_type": "stream",
     "text": [
      "____________________________________________________________________________________________________\n",
      "Layer (type)                     Output Shape          Param #     Connected to                     \n",
      "====================================================================================================\n",
      "img_in (InputLayer)              (None, 120, 160, 3)   0                                            \n",
      "____________________________________________________________________________________________________\n",
      "conv2d_1 (Conv2D)                (None, 58, 78, 24)    1824        img_in[0][0]                     \n",
      "____________________________________________________________________________________________________\n",
      "conv2d_2 (Conv2D)                (None, 27, 37, 32)    19232       conv2d_1[0][0]                   \n",
      "____________________________________________________________________________________________________\n",
      "conv2d_3 (Conv2D)                (None, 12, 17, 64)    51264       conv2d_2[0][0]                   \n",
      "____________________________________________________________________________________________________\n",
      "conv2d_4 (Conv2D)                (None, 5, 8, 64)      36928       conv2d_3[0][0]                   \n",
      "____________________________________________________________________________________________________\n",
      "conv2d_5 (Conv2D)                (None, 3, 6, 64)      36928       conv2d_4[0][0]                   \n",
      "____________________________________________________________________________________________________\n",
      "flattened (Flatten)              (None, 1152)          0           conv2d_5[0][0]                   \n",
      "____________________________________________________________________________________________________\n",
      "tail_dense_1 (Dense)             (None, 100)           115300      flattened[0][0]                  \n",
      "____________________________________________________________________________________________________\n",
      "dropout_1 (Dropout)              (None, 100)           0           tail_dense_1[0][0]               \n",
      "____________________________________________________________________________________________________\n",
      "dense_1 (Dense)                  (None, 50)            5050        dropout_1[0][0]                  \n",
      "____________________________________________________________________________________________________\n",
      "dropout_2 (Dropout)              (None, 50)            0           dense_1[0][0]                    \n",
      "____________________________________________________________________________________________________\n",
      "angle_out (Dense)                (None, 15)            765         dropout_2[0][0]                  \n",
      "____________________________________________________________________________________________________\n",
      "throttle_out (Dense)             (None, 1)             51          dropout_2[0][0]                  \n",
      "====================================================================================================\n",
      "Total params: 267,342\n",
      "Trainable params: 121,166\n",
      "Non-trainable params: 146,176\n",
      "____________________________________________________________________________________________________\n"
     ]
    }
   ],
   "source": [
    "m2 = add_tail_network(m.get_layer('img_in').input, m.get_layer('flattened').output)\n",
    "\n",
    "#check that the layer \"tail_dense_1 is in our new model.\n",
    "m2.summary()"
   ]
  },
  {
   "cell_type": "markdown",
   "metadata": {},
   "source": [
    "Here you can see the tail has been added because the layer `tail_dense_1` has been added"
   ]
  },
  {
   "cell_type": "markdown",
   "metadata": {},
   "source": [
    "### Test the model changed as expected."
   ]
  },
  {
   "cell_type": "code",
   "execution_count": 7,
   "metadata": {},
   "outputs": [
    {
     "data": {
      "text/plain": [
       "True"
      ]
     },
     "execution_count": 7,
     "metadata": {},
     "output_type": "execute_result"
    }
   ],
   "source": [
    "#weights of convolution layers are the same as saved model.\n",
    "np.array_equal( m.layers[1].get_weights()[0], m2.layers[1].get_weights()[0])"
   ]
  },
  {
   "cell_type": "code",
   "execution_count": 8,
   "metadata": {},
   "outputs": [
    {
     "data": {
      "text/plain": [
       "False"
      ]
     },
     "execution_count": 8,
     "metadata": {},
     "output_type": "execute_result"
    }
   ],
   "source": [
    "#weights of dense layers in new model are different. \n",
    "np.array_equal( m.layers[-6].get_weights()[0], m2.layers[-6].get_weights()[0])"
   ]
  },
  {
   "cell_type": "code",
   "execution_count": 9,
   "metadata": {},
   "outputs": [
    {
     "data": {
      "text/plain": [
       "False"
      ]
     },
     "execution_count": 9,
     "metadata": {},
     "output_type": "execute_result"
    }
   ],
   "source": [
    "## convolution layers are NOT trainable\n",
    "m2.layers[1].trainable"
   ]
  },
  {
   "cell_type": "code",
   "execution_count": 10,
   "metadata": {},
   "outputs": [
    {
     "data": {
      "text/plain": [
       "True"
      ]
     },
     "execution_count": 10,
     "metadata": {},
     "output_type": "execute_result"
    }
   ],
   "source": [
    "## dense layers are trainable\n",
    "m2.layers[-6].trainable"
   ]
  },
  {
   "cell_type": "markdown",
   "metadata": {},
   "source": [
    "### Save new model so it can be loaded later. "
   ]
  },
  {
   "cell_type": "code",
   "execution_count": 11,
   "metadata": {},
   "outputs": [],
   "source": [
    "template_model_path = '/home/wroscoe/models/vision_only.h5'\n",
    "m2.save(template_model_path)"
   ]
  },
  {
   "cell_type": "markdown",
   "metadata": {},
   "source": [
    "### Load template model and check that its the same. "
   ]
  },
  {
   "cell_type": "code",
   "execution_count": 12,
   "metadata": {},
   "outputs": [],
   "source": [
    "m3 = keras.models.load_model(v)"
   ]
  },
  {
   "cell_type": "code",
   "execution_count": 13,
   "metadata": {},
   "outputs": [
    {
     "data": {
      "text/plain": [
       "[('img_in', False),\n",
       " ('conv2d_1', False),\n",
       " ('conv2d_2', False),\n",
       " ('conv2d_3', False),\n",
       " ('conv2d_4', False),\n",
       " ('conv2d_5', False),\n",
       " ('flattened', False),\n",
       " ('tail_dense_1', True),\n",
       " ('dropout_1', True),\n",
       " ('dense_1', True),\n",
       " ('dropout_2', True),\n",
       " ('angle_out', True),\n",
       " ('throttle_out', True)]"
      ]
     },
     "execution_count": 13,
     "metadata": {},
     "output_type": "execute_result"
    }
   ],
   "source": [
    "[(l.name, l.trainable) for l in m3.layers]"
   ]
  },
  {
   "cell_type": "markdown",
   "metadata": {},
   "source": [
    "###  Train on new data. "
   ]
  },
  {
   "cell_type": "code",
   "execution_count": 19,
   "metadata": {},
   "outputs": [],
   "source": [
    "import donkeycar as dk\n",
    "from donkeycar.parts.keras import KerasCategorical\n",
    "from donkeycar.parts.datastore import TubGroup"
   ]
  },
  {
   "cell_type": "code",
   "execution_count": 20,
   "metadata": {},
   "outputs": [
    {
     "name": "stdout",
     "output_type": "stream",
     "text": [
      "loading config file: /home/wroscoe/d2/config.py\n",
      "config loaded\n"
     ]
    }
   ],
   "source": [
    "cfg = dk.config.load_config('/home/wroscoe/d2/config.py')"
   ]
  },
  {
   "cell_type": "code",
   "execution_count": 25,
   "metadata": {},
   "outputs": [],
   "source": [
    "tub_names = ','.join(['/home/wroscoe/d2/data/tub_1_17-11-18/'])"
   ]
  },
  {
   "cell_type": "code",
   "execution_count": 33,
   "metadata": {},
   "outputs": [
    {
     "name": "stdout",
     "output_type": "stream",
     "text": [
      "tub_names /home/wroscoe/d2/data/tub_1_17-11-18/\n",
      "TubGroup:tubpaths: ['/home/wroscoe/d2/data/tub_1_17-11-18']\n",
      "path_in_tub: /home/wroscoe/d2/data/tub_1_17-11-18\n",
      "Tub exists: /home/wroscoe/d2/data/tub_1_17-11-18\n",
      "joining the tubs 6539 records together. This could take 0 minutes.\n"
     ]
    }
   ],
   "source": [
    "\n",
    "X_keys = ['cam/image_array']\n",
    "y_keys = ['user/angle', 'user/throttle']\n",
    "\n",
    "def rt(record):\n",
    "    record['user/angle'] = dk.utils.linear_bin(record['user/angle'])\n",
    "    return record\n",
    "\n",
    "kl = KerasCategorical()\n",
    "kl.load(template_model_path)\n",
    "print('tub_names', tub_names)\n",
    "if not tub_names:\n",
    "    tub_names = os.path.join(cfg.DATA_PATH, '*')\n",
    "tubgroup = TubGroup(tub_names)\n",
    "train_gen, val_gen = tubgroup.get_train_val_gen(X_keys, y_keys, record_transform=rt,\n",
    "                                                batch_size=cfg.BATCH_SIZE,\n",
    "                                                train_frac=cfg.TRAIN_TEST_SPLIT)\n",
    "\n"
   ]
  },
  {
   "cell_type": "code",
   "execution_count": 34,
   "metadata": {},
   "outputs": [],
   "source": [
    "model_name = 'vision_test1.h5'"
   ]
  },
  {
   "cell_type": "code",
   "execution_count": 35,
   "metadata": {
    "scrolled": true
   },
   "outputs": [
    {
     "name": "stdout",
     "output_type": "stream",
     "text": [
      "train: 5231, validation: 1308\n",
      "steps_per_epoch 40\n",
      "Epoch 1/100\n",
      "39/40 [============================>.] - ETA: 0s - loss: 8.2395 - angle_out_loss: 9.1534 - throttle_out_loss: 1.4712Epoch 00000: val_loss improved from inf to 7.10821, saving model to vision_test1.h5\n",
      "40/40 [==============================] - 25s - loss: 8.1766 - angle_out_loss: 9.0835 - throttle_out_loss: 1.4506 - val_loss: 7.1082 - val_angle_out_loss: 7.8972 - val_throttle_out_loss: 0.7132\n",
      "Epoch 2/100\n",
      "39/40 [============================>.] - ETA: 0s - loss: 6.4505 - angle_out_loss: 7.1664 - throttle_out_loss: 0.8117Epoch 00001: val_loss improved from 7.10821 to 6.28649, saving model to vision_test1.h5\n",
      "40/40 [==============================] - 30s - loss: 6.4571 - angle_out_loss: 7.1736 - throttle_out_loss: 0.8091 - val_loss: 6.2865 - val_angle_out_loss: 6.9843 - val_throttle_out_loss: 0.6189\n",
      "Epoch 3/100\n",
      "39/40 [============================>.] - ETA: 0s - loss: 5.7621 - angle_out_loss: 6.4016 - throttle_out_loss: 0.6504Epoch 00002: val_loss improved from 6.28649 to 5.61067, saving model to vision_test1.h5\n",
      "40/40 [==============================] - 29s - loss: 5.7360 - angle_out_loss: 6.3727 - throttle_out_loss: 0.6511 - val_loss: 5.6107 - val_angle_out_loss: 6.2334 - val_throttle_out_loss: 0.6148\n",
      "Epoch 4/100\n",
      "39/40 [============================>.] - ETA: 0s - loss: 5.0200 - angle_out_loss: 5.5771 - throttle_out_loss: 0.6296Epoch 00003: val_loss improved from 5.61067 to 5.28502, saving model to vision_test1.h5\n",
      "40/40 [==============================] - 24s - loss: 5.0216 - angle_out_loss: 5.5788 - throttle_out_loss: 0.6307 - val_loss: 5.2850 - val_angle_out_loss: 5.8716 - val_throttle_out_loss: 0.6154\n",
      "Epoch 5/100\n",
      "39/40 [============================>.] - ETA: 0s - loss: 4.5714 - angle_out_loss: 5.0786 - throttle_out_loss: 0.6341Epoch 00004: val_loss improved from 5.28502 to 4.81956, saving model to vision_test1.h5\n",
      "40/40 [==============================] - 24s - loss: 4.5809 - angle_out_loss: 5.0892 - throttle_out_loss: 0.6413 - val_loss: 4.8196 - val_angle_out_loss: 5.3544 - val_throttle_out_loss: 0.6160\n",
      "Epoch 6/100\n",
      "39/40 [============================>.] - ETA: 0s - loss: 4.0084 - angle_out_loss: 4.4530 - throttle_out_loss: 0.6513Epoch 00005: val_loss improved from 4.81956 to 4.40002, saving model to vision_test1.h5\n",
      "40/40 [==============================] - 24s - loss: 4.0031 - angle_out_loss: 4.4472 - throttle_out_loss: 0.6522 - val_loss: 4.4000 - val_angle_out_loss: 4.8882 - val_throttle_out_loss: 0.6182\n",
      "Epoch 7/100\n",
      "39/40 [============================>.] - ETA: 0s - loss: 3.2908 - angle_out_loss: 3.6557 - throttle_out_loss: 0.6639Epoch 00006: val_loss improved from 4.40002 to 4.08237, saving model to vision_test1.h5\n",
      "40/40 [==============================] - 28s - loss: 3.2899 - angle_out_loss: 3.6547 - throttle_out_loss: 0.6628 - val_loss: 4.0824 - val_angle_out_loss: 4.5353 - val_throttle_out_loss: 0.6210\n",
      "Epoch 8/100\n",
      "39/40 [============================>.] - ETA: 0s - loss: 2.9624 - angle_out_loss: 3.2908 - throttle_out_loss: 0.6400Epoch 00007: val_loss improved from 4.08237 to 3.29545, saving model to vision_test1.h5\n",
      "40/40 [==============================] - 25s - loss: 2.9211 - angle_out_loss: 3.2449 - throttle_out_loss: 0.6399 - val_loss: 3.2954 - val_angle_out_loss: 3.6609 - val_throttle_out_loss: 0.6176\n",
      "Epoch 9/100\n",
      "39/40 [============================>.] - ETA: 0s - loss: 2.3765 - angle_out_loss: 2.6399 - throttle_out_loss: 0.6243Epoch 00008: val_loss improved from 3.29545 to 2.79310, saving model to vision_test1.h5\n",
      "40/40 [==============================] - 24s - loss: 2.3728 - angle_out_loss: 2.6358 - throttle_out_loss: 0.6243 - val_loss: 2.7931 - val_angle_out_loss: 3.1028 - val_throttle_out_loss: 0.6183\n",
      "Epoch 10/100\n",
      "39/40 [============================>.] - ETA: 0s - loss: 1.9294 - angle_out_loss: 2.1431 - throttle_out_loss: 0.6243Epoch 00009: val_loss improved from 2.79310 to 2.57417, saving model to vision_test1.h5\n",
      "40/40 [==============================] - 24s - loss: 1.9279 - angle_out_loss: 2.1415 - throttle_out_loss: 0.6244 - val_loss: 2.5742 - val_angle_out_loss: 2.8595 - val_throttle_out_loss: 0.6200\n",
      "Epoch 11/100\n",
      "39/40 [============================>.] - ETA: 0s - loss: 1.4788 - angle_out_loss: 1.6425 - throttle_out_loss: 0.6251Epoch 00010: val_loss did not improve\n",
      "40/40 [==============================] - 25s - loss: 1.4681 - angle_out_loss: 1.6306 - throttle_out_loss: 0.6252 - val_loss: 2.6393 - val_angle_out_loss: 2.9319 - val_throttle_out_loss: 0.6208\n",
      "Epoch 12/100\n",
      "39/40 [============================>.] - ETA: 0s - loss: 1.3228 - angle_out_loss: 1.4691 - throttle_out_loss: 0.6255Epoch 00011: val_loss improved from 2.57417 to 2.25565, saving model to vision_test1.h5\n",
      "40/40 [==============================] - 25s - loss: 1.3129 - angle_out_loss: 1.4580 - throttle_out_loss: 0.6255 - val_loss: 2.2557 - val_angle_out_loss: 2.5056 - val_throttle_out_loss: 0.6157\n",
      "Epoch 13/100\n",
      "39/40 [============================>.] - ETA: 0s - loss: 1.1218 - angle_out_loss: 1.2458 - throttle_out_loss: 0.6250Epoch 00012: val_loss improved from 2.25565 to 1.58589, saving model to vision_test1.h5\n",
      "40/40 [==============================] - 24s - loss: 1.1179 - angle_out_loss: 1.2414 - throttle_out_loss: 0.6250 - val_loss: 1.5859 - val_angle_out_loss: 1.7614 - val_throttle_out_loss: 0.6167\n",
      "Epoch 14/100\n",
      "39/40 [============================>.] - ETA: 0s - loss: 0.9126 - angle_out_loss: 1.0134 - throttle_out_loss: 0.6253Epoch 00013: val_loss did not improve\n",
      "40/40 [==============================] - 25s - loss: 0.9176 - angle_out_loss: 1.0189 - throttle_out_loss: 0.6255 - val_loss: 1.8424 - val_angle_out_loss: 2.0464 - val_throttle_out_loss: 0.6288\n",
      "Epoch 15/100\n",
      "39/40 [============================>.] - ETA: 0s - loss: 0.8310 - angle_out_loss: 0.9227 - throttle_out_loss: 0.6228Epoch 00014: val_loss did not improve\n",
      "40/40 [==============================] - 24s - loss: 0.8285 - angle_out_loss: 0.9199 - throttle_out_loss: 0.6226 - val_loss: 1.7503 - val_angle_out_loss: 1.9440 - val_throttle_out_loss: 0.6231\n",
      "Epoch 16/100\n",
      "39/40 [============================>.] - ETA: 0s - loss: 0.7281 - angle_out_loss: 0.8083 - throttle_out_loss: 0.6223Epoch 00015: val_loss improved from 1.58589 to 1.36786, saving model to vision_test1.h5\n",
      "40/40 [==============================] - 25s - loss: 0.7276 - angle_out_loss: 0.8077 - throttle_out_loss: 0.6221 - val_loss: 1.3679 - val_angle_out_loss: 1.5192 - val_throttle_out_loss: 0.6151\n",
      "Epoch 17/100\n",
      "39/40 [============================>.] - ETA: 0s - loss: 0.6118 - angle_out_loss: 0.6791 - throttle_out_loss: 0.6208Epoch 00016: val_loss did not improve\n",
      "40/40 [==============================] - 25s - loss: 0.6102 - angle_out_loss: 0.6773 - throttle_out_loss: 0.6210 - val_loss: 1.3686 - val_angle_out_loss: 1.5200 - val_throttle_out_loss: 0.6192\n",
      "Epoch 18/100\n",
      "39/40 [============================>.] - ETA: 0s - loss: 0.4990 - angle_out_loss: 0.5538 - throttle_out_loss: 0.6255Epoch 00017: val_loss did not improve\n",
      "40/40 [==============================] - 25s - loss: 0.4981 - angle_out_loss: 0.5527 - throttle_out_loss: 0.6251 - val_loss: 1.4506 - val_angle_out_loss: 1.6111 - val_throttle_out_loss: 0.6211\n",
      "Epoch 19/100\n",
      "39/40 [============================>.] - ETA: 0s - loss: 0.4832 - angle_out_loss: 0.5362 - throttle_out_loss: 0.6201Epoch 00018: val_loss improved from 1.36786 to 1.18652, saving model to vision_test1.h5\n",
      "40/40 [==============================] - 25s - loss: 0.4797 - angle_out_loss: 0.5324 - throttle_out_loss: 0.6201 - val_loss: 1.1865 - val_angle_out_loss: 1.3177 - val_throttle_out_loss: 0.6185\n",
      "Epoch 20/100\n",
      "39/40 [============================>.] - ETA: 0s - loss: 0.4333 - angle_out_loss: 0.4807 - throttle_out_loss: 0.6197Epoch 00019: val_loss did not improve\n",
      "40/40 [==============================] - 25s - loss: 0.4301 - angle_out_loss: 0.4772 - throttle_out_loss: 0.6200 - val_loss: 1.2743 - val_angle_out_loss: 1.4152 - val_throttle_out_loss: 0.6173\n",
      "Epoch 21/100\n",
      "39/40 [============================>.] - ETA: 0s - loss: 0.3978 - angle_out_loss: 0.4413 - throttle_out_loss: 0.6212Epoch 00020: val_loss improved from 1.18652 to 1.06238, saving model to vision_test1.h5\n"
     ]
    },
    {
     "name": "stdout",
     "output_type": "stream",
     "text": [
      "40/40 [==============================] - 25s - loss: 0.3986 - angle_out_loss: 0.4421 - throttle_out_loss: 0.6213 - val_loss: 1.0624 - val_angle_out_loss: 1.1797 - val_throttle_out_loss: 0.6217\n",
      "Epoch 22/100\n",
      "39/40 [============================>.] - ETA: 0s - loss: 0.3445 - angle_out_loss: 0.3821 - throttle_out_loss: 0.6221Epoch 00021: val_loss did not improve\n",
      "40/40 [==============================] - 24s - loss: 0.3473 - angle_out_loss: 0.3852 - throttle_out_loss: 0.6220 - val_loss: 1.2885 - val_angle_out_loss: 1.4310 - val_throttle_out_loss: 0.6184\n",
      "Epoch 23/100\n",
      "39/40 [============================>.] - ETA: 0s - loss: 0.3235 - angle_out_loss: 0.3587 - throttle_out_loss: 0.6209Epoch 00022: val_loss did not improve\n",
      "40/40 [==============================] - 24s - loss: 0.3328 - angle_out_loss: 0.3691 - throttle_out_loss: 0.6210 - val_loss: 1.1915 - val_angle_out_loss: 1.3232 - val_throttle_out_loss: 0.6180\n",
      "Epoch 24/100\n",
      "39/40 [============================>.] - ETA: 0s - loss: 0.2881 - angle_out_loss: 0.3194 - throttle_out_loss: 0.6220Epoch 00023: val_loss did not improve\n",
      "40/40 [==============================] - 24s - loss: 0.2891 - angle_out_loss: 0.3205 - throttle_out_loss: 0.6222 - val_loss: 1.2449 - val_angle_out_loss: 1.3825 - val_throttle_out_loss: 0.6177\n",
      "Epoch 25/100\n",
      "39/40 [============================>.] - ETA: 0s - loss: 0.2865 - angle_out_loss: 0.3176 - throttle_out_loss: 0.6214Epoch 00024: val_loss did not improve\n",
      "40/40 [==============================] - 24s - loss: 0.2850 - angle_out_loss: 0.3160 - throttle_out_loss: 0.6213 - val_loss: 1.1797 - val_angle_out_loss: 1.3101 - val_throttle_out_loss: 0.6183\n",
      "Epoch 26/100\n",
      "39/40 [============================>.] - ETA: 0s - loss: 0.2803 - angle_out_loss: 0.3108 - throttle_out_loss: 0.6202Epoch 00025: val_loss did not improve\n",
      "40/40 [==============================] - 25s - loss: 0.2798 - angle_out_loss: 0.3101 - throttle_out_loss: 0.6203 - val_loss: 1.2830 - val_angle_out_loss: 1.4249 - val_throttle_out_loss: 0.6142\n",
      "Epoch 27/100\n",
      "39/40 [============================>.] - ETA: 0s - loss: 0.2547 - angle_out_loss: 0.2823 - throttle_out_loss: 0.6209Epoch 00026: val_loss did not improve\n",
      "40/40 [==============================] - 26s - loss: 0.2560 - angle_out_loss: 0.2837 - throttle_out_loss: 0.6210 - val_loss: 1.2387 - val_angle_out_loss: 1.3757 - val_throttle_out_loss: 0.6174\n",
      "Epoch 00026: early stopping\n"
     ]
    },
    {
     "data": {
      "text/plain": [
       "<keras.callbacks.History at 0x7fc177df9a20>"
      ]
     },
     "execution_count": 35,
     "metadata": {},
     "output_type": "execute_result"
    }
   ],
   "source": [
    "model_path = os.path.expanduser(model_name)\n",
    "\n",
    "total_records = len(tubgroup.df)\n",
    "total_train = int(total_records * cfg.TRAIN_TEST_SPLIT)\n",
    "total_val = total_records - total_train\n",
    "print('train: %d, validation: %d' % (total_train, total_val))\n",
    "steps_per_epoch = total_train // cfg.BATCH_SIZE\n",
    "print('steps_per_epoch', steps_per_epoch)\n",
    "\n",
    "kl.train(train_gen,\n",
    "         val_gen,\n",
    "         saved_model_path=model_path,\n",
    "         steps=steps_per_epoch,\n",
    "         train_split=cfg.TRAIN_TEST_SPLIT)"
   ]
  },
  {
   "cell_type": "code",
   "execution_count": null,
   "metadata": {},
   "outputs": [],
   "source": []
  }
 ],
 "metadata": {
  "kernelspec": {
   "display_name": "Python 3",
   "language": "python",
   "name": "python3"
  },
  "language_info": {
   "codemirror_mode": {
    "name": "ipython",
    "version": 3
   },
   "file_extension": ".py",
   "mimetype": "text/x-python",
   "name": "python",
   "nbconvert_exporter": "python",
   "pygments_lexer": "ipython3",
   "version": "3.6.2"
  }
 },
 "nbformat": 4,
 "nbformat_minor": 2
}
