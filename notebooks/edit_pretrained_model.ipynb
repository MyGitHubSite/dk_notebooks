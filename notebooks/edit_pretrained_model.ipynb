{
 "cells": [
  {
   "cell_type": "markdown",
   "metadata": {},
   "source": [
    "# Edit a pretrained models\n",
    "\n",
    "Take an existing model that has been trained on many data sets and finish training it on a new dataset."
   ]
  },
  {
   "cell_type": "code",
   "execution_count": 45,
   "metadata": {},
   "outputs": [],
   "source": [
    "import keras"
   ]
  },
  {
   "cell_type": "markdown",
   "metadata": {},
   "source": [
    "### Save new model so it can be loaded later. "
   ]
  },
  {
   "cell_type": "code",
   "execution_count": 53,
   "metadata": {},
   "outputs": [],
   "source": [
    "base_model = '/home/wroscoe/models/all_lined_tracks_categorical.h5'\n",
    "new_model = '/home/wroscoe/models/rally2.h5'"
   ]
  },
  {
   "cell_type": "markdown",
   "metadata": {},
   "source": [
    "###  Train on new data. "
   ]
  },
  {
   "cell_type": "code",
   "execution_count": 54,
   "metadata": {},
   "outputs": [],
   "source": [
    "import donkeycar as dk\n",
    "from donkeycar.parts.keras import KerasCategorical\n",
    "from donkeycar.parts.datastore import TubGroup"
   ]
  },
  {
   "cell_type": "code",
   "execution_count": 55,
   "metadata": {},
   "outputs": [
    {
     "name": "stdout",
     "output_type": "stream",
     "text": [
      "loading config file: /home/wroscoe/d2/config.py\n",
      "config loaded\n"
     ]
    }
   ],
   "source": [
    "cfg = dk.config.load_config('/home/wroscoe/d2/config.py')"
   ]
  },
  {
   "cell_type": "markdown",
   "metadata": {},
   "source": [
    "### Load base model."
   ]
  },
  {
   "cell_type": "code",
   "execution_count": 56,
   "metadata": {},
   "outputs": [
    {
     "name": "stdout",
     "output_type": "stream",
     "text": [
      "____________________________________________________________________________________________________\n",
      "Layer (type)                     Output Shape          Param #     Connected to                     \n",
      "====================================================================================================\n",
      "img_in (InputLayer)              (None, 120, 160, 3)   0                                            \n",
      "____________________________________________________________________________________________________\n",
      "conv2d_1 (Conv2D)                (None, 58, 78, 24)    1824        img_in[0][0]                     \n",
      "____________________________________________________________________________________________________\n",
      "conv2d_2 (Conv2D)                (None, 27, 37, 32)    19232       conv2d_1[0][0]                   \n",
      "____________________________________________________________________________________________________\n",
      "conv2d_3 (Conv2D)                (None, 12, 17, 64)    51264       conv2d_2[0][0]                   \n",
      "____________________________________________________________________________________________________\n",
      "conv2d_4 (Conv2D)                (None, 5, 8, 64)      36928       conv2d_3[0][0]                   \n",
      "____________________________________________________________________________________________________\n",
      "conv2d_5 (Conv2D)                (None, 3, 6, 64)      36928       conv2d_4[0][0]                   \n",
      "____________________________________________________________________________________________________\n",
      "flattened (Flatten)              (None, 1152)          0           conv2d_5[0][0]                   \n",
      "____________________________________________________________________________________________________\n",
      "dense_1 (Dense)                  (None, 100)           115300      flattened[0][0]                  \n",
      "____________________________________________________________________________________________________\n",
      "dropout_1 (Dropout)              (None, 100)           0           dense_1[0][0]                    \n",
      "____________________________________________________________________________________________________\n",
      "dense_2 (Dense)                  (None, 50)            5050        dropout_1[0][0]                  \n",
      "____________________________________________________________________________________________________\n",
      "dropout_2 (Dropout)              (None, 50)            0           dense_2[0][0]                    \n",
      "____________________________________________________________________________________________________\n",
      "angle_out (Dense)                (None, 15)            765         dropout_2[0][0]                  \n",
      "____________________________________________________________________________________________________\n",
      "throttle_out (Dense)             (None, 1)             51          dropout_2[0][0]                  \n",
      "====================================================================================================\n",
      "Total params: 267,342\n",
      "Trainable params: 267,342\n",
      "Non-trainable params: 0\n",
      "____________________________________________________________________________________________________\n"
     ]
    }
   ],
   "source": [
    "kl = KerasCategorical()\n",
    "kl.load(base_model)\n",
    "kl.model.summary()"
   ]
  },
  {
   "cell_type": "code",
   "execution_count": 57,
   "metadata": {},
   "outputs": [
    {
     "data": {
      "text/plain": [
       "[('img_in', False),\n",
       " ('conv2d_1', True),\n",
       " ('conv2d_2', True),\n",
       " ('conv2d_3', True),\n",
       " ('conv2d_4', True),\n",
       " ('conv2d_5', True),\n",
       " ('flattened', True),\n",
       " ('dense_1', True),\n",
       " ('dropout_1', True),\n",
       " ('dense_2', True),\n",
       " ('dropout_2', True),\n",
       " ('angle_out', True),\n",
       " ('throttle_out', True)]"
      ]
     },
     "execution_count": 57,
     "metadata": {},
     "output_type": "execute_result"
    }
   ],
   "source": [
    "#Check that the layers are trainable. \n",
    "[(l.name, l.trainable) for l in kl.model.layers]"
   ]
  },
  {
   "cell_type": "markdown",
   "metadata": {},
   "source": [
    "### Load new dataset"
   ]
  },
  {
   "cell_type": "code",
   "execution_count": 58,
   "metadata": {},
   "outputs": [
    {
     "name": "stdout",
     "output_type": "stream",
     "text": [
      "TubGroup:tubpaths: ['/home/wroscoe/data/rally/rally_A_06', '/home/wroscoe/data/rally/rally_A_02', '/home/wroscoe/data/rally/rally_A_08', '/home/wroscoe/data/rally/rally_A_05', '/home/wroscoe/data/rally/rally_A_07', '/home/wroscoe/data/rally/rally_A_03', '/home/wroscoe/data/rally/rally_A_01', '/home/wroscoe/data/rally/rally_A_04']\n",
      "path_in_tub: /home/wroscoe/data/rally/rally_A_06\n",
      "Tub exists: /home/wroscoe/data/rally/rally_A_06\n",
      "path_in_tub: /home/wroscoe/data/rally/rally_A_02\n",
      "Tub exists: /home/wroscoe/data/rally/rally_A_02\n",
      "path_in_tub: /home/wroscoe/data/rally/rally_A_08\n",
      "Tub exists: /home/wroscoe/data/rally/rally_A_08\n",
      "path_in_tub: /home/wroscoe/data/rally/rally_A_05\n",
      "Tub exists: /home/wroscoe/data/rally/rally_A_05\n",
      "path_in_tub: /home/wroscoe/data/rally/rally_A_07\n",
      "Tub exists: /home/wroscoe/data/rally/rally_A_07\n",
      "path_in_tub: /home/wroscoe/data/rally/rally_A_03\n",
      "Tub exists: /home/wroscoe/data/rally/rally_A_03\n",
      "path_in_tub: /home/wroscoe/data/rally/rally_A_01\n",
      "Tub exists: /home/wroscoe/data/rally/rally_A_01\n",
      "path_in_tub: /home/wroscoe/data/rally/rally_A_04\n",
      "Tub exists: /home/wroscoe/data/rally/rally_A_04\n",
      "joining the tubs 48512 records together. This could take 0 minutes.\n"
     ]
    }
   ],
   "source": [
    "tub_names = ','.join(['/home/wroscoe/data/rally/rally_A*'])\n",
    "\n",
    "X_keys = ['cam/image_array']\n",
    "y_keys = ['user/angle', 'user/throttle']\n",
    "\n",
    "def rt(record):\n",
    "    record['user/angle'] = dk.utils.linear_bin(record['user/angle'])\n",
    "    return record\n",
    "\n",
    "tubgroup = TubGroup(tub_names)\n",
    "tubgroup.df\n",
    "\n",
    "#Create data generators to train the network.\n",
    "train_gen, val_gen = tubgroup.get_train_val_gen(X_keys, y_keys, record_transform=rt,\n",
    "                                                batch_size=cfg.BATCH_SIZE,\n",
    "                                                train_frac=cfg.TRAIN_TEST_SPLIT)\n"
   ]
  },
  {
   "cell_type": "code",
   "execution_count": 59,
   "metadata": {
    "scrolled": true
   },
   "outputs": [
    {
     "name": "stdout",
     "output_type": "stream",
     "text": [
      "train: 38809, validation: 9703\n",
      "steps_per_epoch 303\n",
      "Epoch 1/100\n",
      "302/303 [============================>.] - ETA: 1s - loss: 1.4258 - angle_out_loss: 1.5841 - throttle_out_loss: 0.1131Epoch 00000: val_loss improved from inf to 1.32839, saving model to /home/wroscoe/models/rally2.h5\n",
      "303/303 [==============================] - 452s - loss: 1.4252 - angle_out_loss: 1.5834 - throttle_out_loss: 0.1129 - val_loss: 1.3284 - val_angle_out_loss: 1.4759 - val_throttle_out_loss: 0.0707\n",
      "Epoch 2/100\n",
      "302/303 [============================>.] - ETA: 1s - loss: 1.2343 - angle_out_loss: 1.3714 - throttle_out_loss: 0.0683Epoch 00001: val_loss improved from 1.32839 to 1.24942, saving model to /home/wroscoe/models/rally2.h5\n",
      "303/303 [==============================] - 423s - loss: 1.2341 - angle_out_loss: 1.3711 - throttle_out_loss: 0.0684 - val_loss: 1.2494 - val_angle_out_loss: 1.3881 - val_throttle_out_loss: 0.0930\n",
      "Epoch 3/100\n",
      "302/303 [============================>.] - ETA: 1s - loss: 1.1487 - angle_out_loss: 1.2763 - throttle_out_loss: 0.0679Epoch 00002: val_loss improved from 1.24942 to 1.20602, saving model to /home/wroscoe/models/rally2.h5\n",
      "303/303 [==============================] - 432s - loss: 1.1486 - angle_out_loss: 1.2762 - throttle_out_loss: 0.0679 - val_loss: 1.2060 - val_angle_out_loss: 1.3399 - val_throttle_out_loss: 0.0655\n",
      "Epoch 4/100\n",
      "302/303 [============================>.] - ETA: 1s - loss: 1.0756 - angle_out_loss: 1.1950 - throttle_out_loss: 0.0678Epoch 00003: val_loss improved from 1.20602 to 1.18349, saving model to /home/wroscoe/models/rally2.h5\n",
      "303/303 [==============================] - 430s - loss: 1.0756 - angle_out_loss: 1.1951 - throttle_out_loss: 0.0678 - val_loss: 1.1835 - val_angle_out_loss: 1.3149 - val_throttle_out_loss: 0.0689\n",
      "Epoch 5/100\n",
      "302/303 [============================>.] - ETA: 1s - loss: 1.0070 - angle_out_loss: 1.1188 - throttle_out_loss: 0.0688Epoch 00004: val_loss improved from 1.18349 to 1.15690, saving model to /home/wroscoe/models/rally2.h5\n",
      "303/303 [==============================] - 437s - loss: 1.0071 - angle_out_loss: 1.1189 - throttle_out_loss: 0.0688 - val_loss: 1.1569 - val_angle_out_loss: 1.2854 - val_throttle_out_loss: 0.0577\n",
      "Epoch 6/100\n",
      "302/303 [============================>.] - ETA: 1s - loss: 0.9422 - angle_out_loss: 1.0468 - throttle_out_loss: 0.0697Epoch 00005: val_loss did not improve\n",
      "303/303 [==============================] - 423s - loss: 0.9425 - angle_out_loss: 1.0472 - throttle_out_loss: 0.0697 - val_loss: 1.2028 - val_angle_out_loss: 1.3364 - val_throttle_out_loss: 0.0732\n",
      "Epoch 7/100\n",
      "302/303 [============================>.] - ETA: 1s - loss: 0.8780 - angle_out_loss: 0.9755 - throttle_out_loss: 0.0696Epoch 00006: val_loss did not improve\n",
      "303/303 [==============================] - 457s - loss: 0.8777 - angle_out_loss: 0.9751 - throttle_out_loss: 0.0696 - val_loss: 1.1840 - val_angle_out_loss: 1.3155 - val_throttle_out_loss: 0.0556\n",
      "Epoch 8/100\n",
      "302/303 [============================>.] - ETA: 1s - loss: 0.8261 - angle_out_loss: 0.9178 - throttle_out_loss: 0.0691Epoch 00007: val_loss did not improve\n",
      "303/303 [==============================] - 480s - loss: 0.8257 - angle_out_loss: 0.9173 - throttle_out_loss: 0.0691 - val_loss: 1.1846 - val_angle_out_loss: 1.3161 - val_throttle_out_loss: 0.0537\n",
      "Epoch 9/100\n",
      "302/303 [============================>.] - ETA: 1s - loss: 0.7817 - angle_out_loss: 0.8685 - throttle_out_loss: 0.0704Epoch 00008: val_loss improved from 1.15690 to 1.14066, saving model to /home/wroscoe/models/rally2.h5\n",
      "303/303 [==============================] - 441s - loss: 0.7816 - angle_out_loss: 0.8684 - throttle_out_loss: 0.0704 - val_loss: 1.1407 - val_angle_out_loss: 1.2673 - val_throttle_out_loss: 0.0611\n",
      "Epoch 10/100\n",
      "302/303 [============================>.] - ETA: 1s - loss: 0.7419 - angle_out_loss: 0.8242 - throttle_out_loss: 0.0719Epoch 00009: val_loss did not improve\n",
      "303/303 [==============================] - 440s - loss: 0.7418 - angle_out_loss: 0.8241 - throttle_out_loss: 0.0719 - val_loss: 1.1834 - val_angle_out_loss: 1.3148 - val_throttle_out_loss: 0.0966\n",
      "Epoch 11/100\n",
      "302/303 [============================>.] - ETA: 1s - loss: 0.6954 - angle_out_loss: 0.7726 - throttle_out_loss: 0.0709Epoch 00010: val_loss did not improve\n",
      "303/303 [==============================] - 445s - loss: 0.6953 - angle_out_loss: 0.7725 - throttle_out_loss: 0.0710 - val_loss: 1.1728 - val_angle_out_loss: 1.3031 - val_throttle_out_loss: 0.0596\n",
      "Epoch 12/100\n",
      "302/303 [============================>.] - ETA: 4s - loss: 0.6516 - angle_out_loss: 0.7240 - throttle_out_loss: 0.0704Epoch 00011: val_loss improved from 1.14066 to 1.09656, saving model to /home/wroscoe/models/rally2.h5\n",
      "303/303 [==============================] - 1342s - loss: 0.6515 - angle_out_loss: 0.7238 - throttle_out_loss: 0.0703 - val_loss: 1.0966 - val_angle_out_loss: 1.2183 - val_throttle_out_loss: 0.0662\n",
      "Epoch 13/100\n",
      "302/303 [============================>.] - ETA: 1s - loss: 0.6361 - angle_out_loss: 0.7067 - throttle_out_loss: 0.0712Epoch 00012: val_loss did not improve\n",
      "303/303 [==============================] - 454s - loss: 0.6357 - angle_out_loss: 0.7063 - throttle_out_loss: 0.0712 - val_loss: 1.1962 - val_angle_out_loss: 1.3290 - val_throttle_out_loss: 0.0909\n",
      "Epoch 14/100\n",
      "302/303 [============================>.] - ETA: 1s - loss: 0.5931 - angle_out_loss: 0.6589 - throttle_out_loss: 0.0705Epoch 00013: val_loss did not improve\n",
      "303/303 [==============================] - 452s - loss: 0.5935 - angle_out_loss: 0.6594 - throttle_out_loss: 0.0705 - val_loss: 1.2259 - val_angle_out_loss: 1.3620 - val_throttle_out_loss: 0.0662\n",
      "Epoch 15/100\n",
      "302/303 [============================>.] - ETA: 1s - loss: 0.5706 - angle_out_loss: 0.6339 - throttle_out_loss: 0.0724Epoch 00014: val_loss did not improve\n",
      "303/303 [==============================] - 498s - loss: 0.5703 - angle_out_loss: 0.6336 - throttle_out_loss: 0.0724 - val_loss: 1.2420 - val_angle_out_loss: 1.3799 - val_throttle_out_loss: 0.0704\n",
      "Epoch 16/100\n",
      "302/303 [============================>.] - ETA: 1s - loss: 0.5423 - angle_out_loss: 0.6025 - throttle_out_loss: 0.0728Epoch 00015: val_loss did not improve\n",
      "303/303 [==============================] - 516s - loss: 0.5426 - angle_out_loss: 0.6028 - throttle_out_loss: 0.0728 - val_loss: 1.2803 - val_angle_out_loss: 1.4225 - val_throttle_out_loss: 0.0728\n",
      "Epoch 17/100\n",
      "302/303 [============================>.] - ETA: 1s - loss: 0.5297 - angle_out_loss: 0.5885 - throttle_out_loss: 0.0719Epoch 00016: val_loss did not improve\n",
      "303/303 [==============================] - 509s - loss: 0.5294 - angle_out_loss: 0.5881 - throttle_out_loss: 0.0718 - val_loss: 1.2153 - val_angle_out_loss: 1.3503 - val_throttle_out_loss: 0.0571\n",
      "Epoch 18/100\n",
      "302/303 [============================>.] - ETA: 1s - loss: 0.5156 - angle_out_loss: 0.5728 - throttle_out_loss: 0.0736Epoch 00017: val_loss did not improve\n",
      "303/303 [==============================] - 488s - loss: 0.5153 - angle_out_loss: 0.5725 - throttle_out_loss: 0.0735 - val_loss: 1.2539 - val_angle_out_loss: 1.3931 - val_throttle_out_loss: 0.0591\n",
      "Epoch 00017: early stopping\n"
     ]
    },
    {
     "data": {
      "text/plain": [
       "<keras.callbacks.History at 0x7f20cd0cd5f8>"
      ]
     },
     "execution_count": 59,
     "metadata": {},
     "output_type": "execute_result"
    }
   ],
   "source": [
    "total_records = len(tubgroup.df)\n",
    "total_train = int(total_records * cfg.TRAIN_TEST_SPLIT)\n",
    "total_val = total_records - total_train\n",
    "print('train: %d, validation: %d' % (total_train, total_val))\n",
    "steps_per_epoch = total_train // cfg.BATCH_SIZE\n",
    "print('steps_per_epoch', steps_per_epoch)\n",
    "\n",
    "kl.train(train_gen,\n",
    "         val_gen,\n",
    "         saved_model_path=new_model,\n",
    "         steps=steps_per_epoch,\n",
    "         train_split=cfg.TRAIN_TEST_SPLIT)"
   ]
  },
  {
   "cell_type": "code",
   "execution_count": null,
   "metadata": {},
   "outputs": [],
   "source": []
  },
  {
   "cell_type": "code",
   "execution_count": null,
   "metadata": {},
   "outputs": [],
   "source": []
  }
 ],
 "metadata": {
  "kernelspec": {
   "display_name": "Python 3",
   "language": "python",
   "name": "python3"
  },
  "language_info": {
   "codemirror_mode": {
    "name": "ipython",
    "version": 3
   },
   "file_extension": ".py",
   "mimetype": "text/x-python",
   "name": "python",
   "nbconvert_exporter": "python",
   "pygments_lexer": "ipython3",
   "version": "3.6.2"
  }
 },
 "nbformat": 4,
 "nbformat_minor": 2
}
