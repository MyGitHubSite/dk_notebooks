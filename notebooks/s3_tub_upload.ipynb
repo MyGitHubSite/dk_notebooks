{
 "cells": [
  {
   "cell_type": "code",
   "execution_count": 2,
   "metadata": {},
   "outputs": [],
   "source": [
    "import tarfile\n",
    "\n",
    "tar = tarfile.open(\"/home/wroscoe/Desktop/test.tar.gz\", \"w:gz\")\n",
    "tar.add(\"/home/wroscoe/data/wroscoe_avc_raceline/\", arcname=\"folder_name\")\n",
    "tar.close()"
   ]
  },
  {
   "cell_type": "code",
   "execution_count": 1,
   "metadata": {},
   "outputs": [],
   "source": [
    "import boto3"
   ]
  },
  {
   "cell_type": "code",
   "execution_count": 3,
   "metadata": {},
   "outputs": [],
   "source": [
    "client = boto3.client('s3', region_name='us-west-2' )"
   ]
  },
  {
   "cell_type": "code",
   "execution_count": 4,
   "metadata": {},
   "outputs": [
    {
     "data": {
      "text/plain": [
       "'us-west-2'"
      ]
     },
     "execution_count": 4,
     "metadata": {},
     "output_type": "execute_result"
    }
   ],
   "source": [
    "client.meta.config.region_name"
   ]
  },
  {
   "cell_type": "code",
   "execution_count": 11,
   "metadata": {},
   "outputs": [
    {
     "data": {
      "text/plain": [
       "{'Location': 'http://donkeydata2.s3.amazonaws.com/',\n",
       " 'ResponseMetadata': {'HTTPHeaders': {'content-length': '0',\n",
       "   'date': 'Sun, 29 Oct 2017 23:16:58 GMT',\n",
       "   'location': 'http://donkeydata2.s3.amazonaws.com/',\n",
       "   'server': 'AmazonS3',\n",
       "   'x-amz-id-2': '68BEpe2KY6Js80sCD0eND/YH2so+wAHvi37KdaKAG4H12/C0bV5lj0BXX5e7B1Nhx4DHxCHdAkY=',\n",
       "   'x-amz-request-id': 'E361FDCE8A89BB7E'},\n",
       "  'HTTPStatusCode': 200,\n",
       "  'HostId': '68BEpe2KY6Js80sCD0eND/YH2so+wAHvi37KdaKAG4H12/C0bV5lj0BXX5e7B1Nhx4DHxCHdAkY=',\n",
       "  'RequestId': 'E361FDCE8A89BB7E',\n",
       "  'RetryAttempts': 0}}"
      ]
     },
     "execution_count": 11,
     "metadata": {},
     "output_type": "execute_result"
    }
   ],
   "source": [
    "bucket_name = 'donkeydata2'\n",
    "client.create_bucket(Bucket=bucket_name, ACL='public-read', \n",
    "                     CreateBucketConfiguration={'LocationConstraint': 'us-west-2'})"
   ]
  },
  {
   "cell_type": "code",
   "execution_count": 14,
   "metadata": {},
   "outputs": [],
   "source": [
    "import itertools"
   ]
  },
  {
   "cell_type": "code",
   "execution_count": 28,
   "metadata": {},
   "outputs": [],
   "source": [
    "column_list= [['a', 'b'], ['a', 'b', 'c'], ['b']]\n"
   ]
  },
  {
   "cell_type": "code",
   "execution_count": 29,
   "metadata": {},
   "outputs": [],
   "source": [
    "def contained_in_all(val, set_list):\n",
    "    for set in set_list:\n",
    "        if val not in set:\n",
    "            return False\n",
    "    return True\n",
    "\n",
    "#column_list = [set(t.df.columns) for t in tubs]\n",
    "column_set = set(itertools.chain(*column_list))\n",
    "\n",
    "\n",
    "cols_in_all = [c for c in column_set if contained_in_all(c, column_list)]\n"
   ]
  },
  {
   "cell_type": "code",
   "execution_count": 30,
   "metadata": {},
   "outputs": [
    {
     "data": {
      "text/plain": [
       "['b']"
      ]
     },
     "execution_count": 30,
     "metadata": {},
     "output_type": "execute_result"
    }
   ],
   "source": [
    "cols_in_all"
   ]
  },
  {
   "cell_type": "code",
   "execution_count": 33,
   "metadata": {},
   "outputs": [],
   "source": [
    "import tornado.web\n"
   ]
  },
  {
   "cell_type": "code",
   "execution_count": 34,
   "metadata": {},
   "outputs": [
    {
     "data": {
      "text/plain": [
       "<module 'tornado.web' from '/home/wroscoe/miniconda3/lib/python3.6/site-packages/tornado/web.py'>"
      ]
     },
     "execution_count": 34,
     "metadata": {},
     "output_type": "execute_result"
    }
   ],
   "source": [
    "tornado.web\n"
   ]
  },
  {
   "cell_type": "code",
   "execution_count": null,
   "metadata": {},
   "outputs": [],
   "source": []
  }
 ],
 "metadata": {
  "kernelspec": {
   "display_name": "Python 3",
   "language": "python",
   "name": "python3"
  },
  "language_info": {
   "codemirror_mode": {
    "name": "ipython",
    "version": 3
   },
   "file_extension": ".py",
   "mimetype": "text/x-python",
   "name": "python",
   "nbconvert_exporter": "python",
   "pygments_lexer": "ipython3",
   "version": "3.6.2"
  }
 },
 "nbformat": 4,
 "nbformat_minor": 2
}
